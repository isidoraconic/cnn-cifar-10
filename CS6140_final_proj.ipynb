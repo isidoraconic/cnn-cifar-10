{
  "cells": [
    {
      "cell_type": "code",
      "execution_count": null,
      "metadata": {
        "id": "vWCYTGaRswqL"
      },
      "outputs": [],
      "source": [
        "# %tensorflow_version 2.x\n",
        "# import tensorflow as tf\n",
        "# device_name = tf.test.gpu_device_name()\n",
        "# if device_name != '/device:GPU:0':\n",
        "#   raise SystemError('GPU device not found')\n",
        "# print('Found GPU at: {}'.format(device_name))"
      ]
    },
    {
      "cell_type": "markdown",
      "metadata": {
        "id": "BUzdmwnAdAtL"
      },
      "source": [
        "# **CS 6140 - Final Project**\n",
        "## Practicing Convolutional Neural Network (CIFAR 10 Challenge)\n",
        "#### Isidora Conic\n",
        "#### Fall 2021"
      ]
    },
    {
      "cell_type": "code",
      "execution_count": 138,
      "metadata": {
        "id": "aLbxszVN8WC0"
      },
      "outputs": [],
      "source": [
        "#Importing necessary libraries\n",
        "import tensorflow as tf\n",
        "from tensorflow import keras\n",
        "import sklearn as sklearn\n",
        "import numpy as np\n",
        "import matplotlib as mpl\n",
        "import matplotlib.pyplot as plt\n",
        "import tensorflow_datasets as tfds\n",
        "from keras.datasets import cifar10\n",
        "from tensorflow.keras import layers\n",
        "from tensorflow.keras.optimizers import SGD\n",
        "from tensorflow.keras.optimizers import Adam\n",
        "from keras.utils.np_utils import to_categorical\n",
        "from tensorflow.keras.layers import BatchNormalization\n",
        "from tensorflow.keras import regularizers"
      ]
    },
    {
      "cell_type": "code",
      "execution_count": 139,
      "metadata": {
        "id": "_GY5XNANL881"
      },
      "outputs": [],
      "source": [
        "dataset, info = tfds.load(\"cifar10\", as_supervised=True, with_info=True)"
      ]
    },
    {
      "cell_type": "code",
      "execution_count": 140,
      "metadata": {
        "id": "G6Grhn5TOsg-"
      },
      "outputs": [],
      "source": [
        "(X_train_full, y_train_full), (X_test_full, y_test_full) = cifar10.load_data()"
      ]
    },
    {
      "cell_type": "code",
      "execution_count": 141,
      "metadata": {
        "colab": {
          "base_uri": "https://localhost:8080/"
        },
        "id": "_gjCIM2gMrZC",
        "outputId": "6d8a4cee-6b53-4da7-d28b-e2d655663d45"
      },
      "outputs": [
        {
          "output_type": "execute_result",
          "data": {
            "text/plain": [
              "['airplane',\n",
              " 'automobile',\n",
              " 'bird',\n",
              " 'cat',\n",
              " 'deer',\n",
              " 'dog',\n",
              " 'frog',\n",
              " 'horse',\n",
              " 'ship',\n",
              " 'truck']"
            ]
          },
          "metadata": {},
          "execution_count": 141
        }
      ],
      "source": [
        "#Looking at the data labels (i.e. categories)\n",
        "class_names = info.features['label'].names\n",
        "class_names"
      ]
    },
    {
      "cell_type": "code",
      "execution_count": 142,
      "metadata": {
        "colab": {
          "base_uri": "https://localhost:8080/"
        },
        "id": "8JJUtp76f_rJ",
        "outputId": "79c862e5-075d-4428-82cb-6cd293998981"
      },
      "outputs": [
        {
          "output_type": "stream",
          "name": "stdout",
          "text": [
            "X_train shape =  (50000, 32, 32, 3)\n",
            "y_train shape =  (50000, 1)\n",
            "X_test shape =  (10000, 32, 32, 3)\n",
            "y_test shape =  (10000, 1)\n"
          ]
        }
      ],
      "source": [
        "#Checking the shape of the train and test sets to make sure that the above is true\n",
        "print(\"X_train shape = \", X_train_full.shape)\n",
        "print(\"y_train shape = \", y_train_full.shape)\n",
        "print(\"X_test shape = \", X_test_full.shape)\n",
        "print(\"y_test shape = \", y_test_full.shape)"
      ]
    },
    {
      "cell_type": "markdown",
      "metadata": {
        "id": "ownDOYgWnwJf"
      },
      "source": [
        "The results above (shape) makes sense since the X_train and X_test sets have a shape of `(50000, 32, 32, 3)` and `(10000, 32, 32, 3)`, respectively, meaning that they have 50,000 and 10,000 images, rescpectively, and each of these images are represented by a matrix of pixels. Each image is 32x32 pixels, and the then a single pixel has an RGB value (colour). For y_train and and y_test, the shape is `(50000, 1)` and `(10000, 1)`, respectively, corresponding to the number of samples and the class that the image belongs to (one of 10 classes in this case)."
      ]
    },
    {
      "cell_type": "code",
      "execution_count": 143,
      "metadata": {
        "id": "9ibbDkGpkloz"
      },
      "outputs": [],
      "source": [
        "#Prep-processing to change the shape of input\n",
        "\n",
        "#Tranforming categorical data to encoded (numerical) values\n",
        "y_train_full = to_categorical(y_train_full, num_classes=10)\n",
        "y_test_full = to_categorical(y_test_full, num_classes=10)\n",
        "\n",
        "#Transform images from (32,32,3) to 3072-dimensional vectors (32*32*3)\n",
        "X_train_full = X_train_full.astype('float32')\n",
        "X_test_full = X_test_full.astype('float32')\n",
        "\n",
        "#Normalizing the pixel values to 0-1\n",
        "X_train_full /= 255\n",
        "X_test_full /= 255"
      ]
    },
    {
      "cell_type": "code",
      "execution_count": 144,
      "metadata": {
        "id": "VGZT1U85nnWm"
      },
      "outputs": [],
      "source": [
        "#Now we have to split the train data into train and test split\n",
        "from sklearn.model_selection import train_test_split\n",
        "X_train, X_test, y_train, y_test = train_test_split(X_train_full, y_train_full, test_size=0.3, random_state=42)"
      ]
    },
    {
      "cell_type": "code",
      "execution_count": 145,
      "metadata": {
        "colab": {
          "base_uri": "https://localhost:8080/"
        },
        "id": "NCZ5lCzTP_ZW",
        "outputId": "7f60c62e-4a1c-4561-9822-7597ca24e40a"
      },
      "outputs": [
        {
          "output_type": "stream",
          "name": "stdout",
          "text": [
            "X_train shape =  (35000, 32, 32, 3)\n",
            "y_train shape =  (35000, 10)\n",
            "X_test shape =  (15000, 32, 32, 3)\n",
            "y_test shape =  (15000, 10)\n"
          ]
        }
      ],
      "source": [
        "#Checking the shape of the new train and test sets \n",
        "print(\"X_train shape = \", X_train.shape)\n",
        "print(\"y_train shape = \", y_train.shape)\n",
        "print(\"X_test shape = \", X_test.shape)\n",
        "print(\"y_test shape = \", y_test.shape)"
      ]
    },
    {
      "cell_type": "code",
      "source": [
        "#Code for plotting training and validation loss\n",
        "#Function taken from: https://thedatafrog.com/en/articles/image-recognition-transfer-learning/\n",
        "def plot_history(history, yrange):\n",
        "    '''Plot loss and accuracy as a function of the epoch,\n",
        "    for the training and validation datasets.\n",
        "    '''\n",
        "    acc = history.history['accuracy']\n",
        "    val_acc = history.history['val_accuracy']\n",
        "    loss = history.history['loss']\n",
        "    val_loss = history.history['val_loss']\n",
        "\n",
        "    # Get number of epochs\n",
        "    epochs = range(len(acc))\n",
        "    \n",
        "    # Plot training and validation loss per epoch\n",
        "    plt.figure()\n",
        "\n",
        "    plt.plot(epochs, loss, label=\"training loss\")\n",
        "    plt.plot(epochs, val_loss, label=\"validation loss\")\n",
        "    plt.title('Training and validation loss')\n",
        "    plt.legend()\n",
        "    plt.show()"
      ],
      "metadata": {
        "id": "SZDPS7REzdSX"
      },
      "execution_count": 183,
      "outputs": []
    },
    {
      "cell_type": "markdown",
      "metadata": {
        "id": "o4fYnkdbUdim"
      },
      "source": [
        "### **Attempting to model with LeNet-5 Architecture**\n",
        "\n"
      ]
    },
    {
      "cell_type": "code",
      "execution_count": 185,
      "metadata": {
        "colab": {
          "base_uri": "https://localhost:8080/"
        },
        "id": "2IdyQ2RHUlu2",
        "outputId": "1cee6e5f-1d39-4d47-abb9-045fb84c9590"
      },
      "outputs": [
        {
          "output_type": "stream",
          "name": "stderr",
          "text": [
            "/usr/local/lib/python3.7/dist-packages/keras/optimizer_v2/gradient_descent.py:102: UserWarning: The `lr` argument is deprecated, use `learning_rate` instead.\n",
            "  super(SGD, self).__init__(name, **kwargs)\n"
          ]
        }
      ],
      "source": [
        "lenet_model = keras.Sequential()\n",
        "\n",
        "#Convolutional layer 1\n",
        "lenet_model.add(layers.Conv2D(filters=64, kernel_size=(3, 3), activation='relu', input_shape=(32,32,3)))\n",
        "lenet_model.add(layers.AveragePooling2D())\n",
        "\n",
        "#Convolutional layer 2\n",
        "lenet_model.add(layers.Conv2D(filters=64, kernel_size=(3, 3), activation='relu'))\n",
        "lenet_model.add(layers.AveragePooling2D())\n",
        "\n",
        "#Flattening layer\n",
        "lenet_model.add(layers.Flatten())\n",
        "\n",
        "#2 fully connected layers\n",
        "lenet_model.add(layers.Dense(units=256, activation='relu'))\n",
        "lenet_model.add(layers.Dense(units=120, activation='relu'))\n",
        "\n",
        "#Classification layer using softmax\n",
        "lenet_model.add(layers.Dense(units=10, activation = 'softmax'))\n",
        "\n",
        "#Using SGD as the optimizer\n",
        "sgd = SGD(lr=0.01, decay=1e-6, momentum=0.9, nesterov=True)\n",
        "lenet_model.compile(loss='categorical_crossentropy', metrics=['accuracy'], optimizer=sgd)"
      ]
    },
    {
      "cell_type": "code",
      "execution_count": 186,
      "metadata": {
        "colab": {
          "base_uri": "https://localhost:8080/"
        },
        "id": "9MEcFSWOiWYP",
        "outputId": "c6af874e-cecc-45e9-c926-ed0621cfc78e"
      },
      "outputs": [
        {
          "output_type": "stream",
          "name": "stdout",
          "text": [
            "Epoch 1/15\n",
            "875/875 - 4s - loss: 1.8066 - accuracy: 0.3429 - val_loss: 1.5586 - val_accuracy: 0.4351 - 4s/epoch - 5ms/step\n",
            "Epoch 2/15\n",
            "875/875 - 4s - loss: 1.4418 - accuracy: 0.4842 - val_loss: 1.3542 - val_accuracy: 0.5144 - 4s/epoch - 4ms/step\n",
            "Epoch 3/15\n",
            "875/875 - 4s - loss: 1.2775 - accuracy: 0.5383 - val_loss: 1.2877 - val_accuracy: 0.5429 - 4s/epoch - 4ms/step\n",
            "Epoch 4/15\n",
            "875/875 - 4s - loss: 1.1506 - accuracy: 0.5890 - val_loss: 1.2195 - val_accuracy: 0.5597 - 4s/epoch - 4ms/step\n",
            "Epoch 5/15\n",
            "875/875 - 4s - loss: 1.0363 - accuracy: 0.6309 - val_loss: 1.1877 - val_accuracy: 0.5766 - 4s/epoch - 4ms/step\n",
            "Epoch 6/15\n",
            "875/875 - 4s - loss: 0.9240 - accuracy: 0.6707 - val_loss: 1.1685 - val_accuracy: 0.5919 - 4s/epoch - 4ms/step\n",
            "Epoch 7/15\n",
            "875/875 - 4s - loss: 0.8160 - accuracy: 0.7108 - val_loss: 1.1152 - val_accuracy: 0.6183 - 4s/epoch - 4ms/step\n",
            "Epoch 8/15\n",
            "875/875 - 4s - loss: 0.7005 - accuracy: 0.7494 - val_loss: 1.1848 - val_accuracy: 0.6163 - 4s/epoch - 5ms/step\n",
            "Epoch 9/15\n",
            "875/875 - 4s - loss: 0.5939 - accuracy: 0.7877 - val_loss: 1.2213 - val_accuracy: 0.6229 - 4s/epoch - 4ms/step\n",
            "Epoch 10/15\n",
            "875/875 - 4s - loss: 0.4969 - accuracy: 0.8247 - val_loss: 1.3153 - val_accuracy: 0.6220 - 4s/epoch - 4ms/step\n",
            "Epoch 11/15\n",
            "875/875 - 4s - loss: 0.4004 - accuracy: 0.8563 - val_loss: 1.4708 - val_accuracy: 0.6149 - 4s/epoch - 4ms/step\n",
            "Epoch 12/15\n",
            "875/875 - 4s - loss: 0.3308 - accuracy: 0.8849 - val_loss: 1.6013 - val_accuracy: 0.6196 - 4s/epoch - 4ms/step\n",
            "Epoch 13/15\n",
            "875/875 - 4s - loss: 0.2795 - accuracy: 0.8996 - val_loss: 1.6762 - val_accuracy: 0.6107 - 4s/epoch - 4ms/step\n",
            "Epoch 14/15\n",
            "875/875 - 4s - loss: 0.2371 - accuracy: 0.9158 - val_loss: 1.8915 - val_accuracy: 0.6086 - 4s/epoch - 4ms/step\n",
            "Epoch 15/15\n",
            "875/875 - 4s - loss: 0.1962 - accuracy: 0.9314 - val_loss: 1.8284 - val_accuracy: 0.6214 - 4s/epoch - 4ms/step\n"
          ]
        }
      ],
      "source": [
        "#Training the CNN with 15 epochs\n",
        "history = lenet_model.fit(X_train, y_train, batch_size=32, epochs=15, verbose=2, validation_split=0.2)"
      ]
    },
    {
      "cell_type": "code",
      "execution_count": 187,
      "metadata": {
        "id": "IXZdjxBhicv3"
      },
      "outputs": [],
      "source": [
        "#Getting the accuracy score of the model\n",
        "score = lenet_model.evaluate(X_test, y_test, batch_size=128, verbose=0)"
      ]
    },
    {
      "cell_type": "code",
      "source": [
        "#Printing the accuracy score\n",
        "print(lenet_model.metrics_names)\n",
        "print(score)"
      ],
      "metadata": {
        "colab": {
          "base_uri": "https://localhost:8080/"
        },
        "id": "1w-3jyH0P0uG",
        "outputId": "3a919649-df89-47ef-94a6-c62f96b7e60b"
      },
      "execution_count": 188,
      "outputs": [
        {
          "output_type": "stream",
          "name": "stdout",
          "text": [
            "['loss', 'accuracy']\n",
            "[1.7877134084701538, 0.6241999864578247]\n"
          ]
        }
      ]
    },
    {
      "cell_type": "code",
      "source": [
        "#Plotting training and validation loss\n",
        "plot_history(history, yrange=(0.9,1))"
      ],
      "metadata": {
        "colab": {
          "base_uri": "https://localhost:8080/",
          "height": 281
        },
        "id": "5tmRn6x2zsM2",
        "outputId": "d6f23964-df15-461e-b060-7c89597c488f"
      },
      "execution_count": 189,
      "outputs": [
        {
          "output_type": "display_data",
          "data": {
            "image/png": "[encoded data removed]",
            "text/plain": [
              "<Figure size 432x288 with 1 Axes>"
            ]
          },
          "metadata": {
            "needs_background": "light"
          }
        }
      ]
    },
    {
      "cell_type": "markdown",
      "source": [
        "Clearly, the above accuracy is decent. We can try to add some regularization to our model in order to improve it and see what happens. I will try the following:\n",
        "\n",
        "1. **Batch Normalization:** I will add in some batch normalization layers, which will serve to standardize the inputs to a layer of my model for each mini-batch.\n",
        "\n",
        "2. **Dropout layers:** I will also add in some dropout layers in order to reduce overfitting and improve generalization error. It does this by \"dropping\" some number of of layer inputs, which in turn simulates that particular layer having a different configuration (different number of nodes and connectivity to the prior layer). Essentially, we are trying to model like we are training multiple neural networks with different architectures in parallel. (https://machinelearningmastery.com/dropout-for-regularizing-deep-neural-networks/)\n",
        "\n",
        "3. **Data Augmentation:** This will create modfied images in our dataset (essentially expanding the dataset). This allows the model to be better in generalization. \n",
        "\n",
        "4. **Different Optimizer:** In this case, I am using SGD, but will also try Adam.\n",
        "\n",
        "\n"
      ],
      "metadata": {
        "id": "7khEAAq-P2bc"
      }
    },
    {
      "cell_type": "markdown",
      "source": [
        "#### (1) Batch Normalization\n",
        "I will use the same model as above, but add in batch normalizaton layers."
      ],
      "metadata": {
        "id": "6-W9lOL6TBhB"
      }
    },
    {
      "cell_type": "code",
      "source": [
        "lenet_model = keras.Sequential()\n",
        "\n",
        "#Convolutional layer #1\n",
        "lenet_model.add(layers.Conv2D(filters=64, kernel_size=(3, 3), activation='relu', input_shape=(32,32,3)))\n",
        "lenet_model.add(layers.AveragePooling2D())\n",
        "#Adding in batch normalization to normalize inputs into the next layer\n",
        "lenet_model.add(BatchNormalization())\n",
        "\n",
        "#Convolutional layer #2\n",
        "lenet_model.add(layers.Conv2D(filters=64, kernel_size=(3, 3), activation='relu'))\n",
        "lenet_model.add(layers.AveragePooling2D())\n",
        "#Adding in batch normalization\n",
        "lenet_model.add(BatchNormalization())\n",
        "\n",
        "#Flattening layer\n",
        "lenet_model.add(layers.Flatten())\n",
        "\n",
        "#2 fully connected layers\n",
        "lenet_model.add(layers.Dense(units=256, activation='relu'))\n",
        "lenet_model.add(layers.Dense(units=120, activation='relu'))\n",
        "\n",
        "#Adding in batch normalization\n",
        "lenet_model.add(BatchNormalization())\n",
        "\n",
        "#Classification layer\n",
        "lenet_model.add(layers.Dense(units=10, activation = 'softmax'))\n",
        "\n",
        "#Using SGD as the optimizer\n",
        "sgd = SGD(lr=0.01, decay=1e-6, momentum=0.9, nesterov=True)\n",
        "lenet_model.compile(loss='categorical_crossentropy', metrics=['accuracy'], optimizer=sgd)"
      ],
      "metadata": {
        "colab": {
          "base_uri": "https://localhost:8080/"
        },
        "id": "0frnAec2TMUn",
        "outputId": "a1177144-29a8-467f-ac9e-ccc1e8e32f43"
      },
      "execution_count": 190,
      "outputs": [
        {
          "output_type": "stream",
          "name": "stderr",
          "text": [
            "/usr/local/lib/python3.7/dist-packages/keras/optimizer_v2/gradient_descent.py:102: UserWarning: The `lr` argument is deprecated, use `learning_rate` instead.\n",
            "  super(SGD, self).__init__(name, **kwargs)\n"
          ]
        }
      ]
    },
    {
      "cell_type": "code",
      "source": [
        "#Training the CNN\n",
        "history = lenet_model.fit(X_train, y_train, batch_size=32, epochs=30, verbose=2, validation_split=0.2)"
      ],
      "metadata": {
        "colab": {
          "base_uri": "https://localhost:8080/"
        },
        "id": "RgQI5_PyULi7",
        "outputId": "af27bf63-5fb9-4b4a-b90a-c14aa51e2e2f"
      },
      "execution_count": 191,
      "outputs": [
        {
          "output_type": "stream",
          "name": "stdout",
          "text": [
            "Epoch 1/30\n",
            "875/875 - 8s - loss: 1.5892 - accuracy: 0.4283 - val_loss: 1.7001 - val_accuracy: 0.4206 - 8s/epoch - 9ms/step\n",
            "Epoch 2/30\n",
            "875/875 - 5s - loss: 1.2147 - accuracy: 0.5683 - val_loss: 1.3443 - val_accuracy: 0.5336 - 5s/epoch - 6ms/step\n",
            "Epoch 3/30\n",
            "875/875 - 5s - loss: 1.0215 - accuracy: 0.6385 - val_loss: 1.4113 - val_accuracy: 0.5377 - 5s/epoch - 6ms/step\n",
            "Epoch 4/30\n",
            "875/875 - 5s - loss: 0.8679 - accuracy: 0.6961 - val_loss: 1.0657 - val_accuracy: 0.6376 - 5s/epoch - 6ms/step\n",
            "Epoch 5/30\n",
            "875/875 - 5s - loss: 0.7261 - accuracy: 0.7456 - val_loss: 1.0645 - val_accuracy: 0.6417 - 5s/epoch - 6ms/step\n",
            "Epoch 6/30\n",
            "875/875 - 5s - loss: 0.6074 - accuracy: 0.7865 - val_loss: 1.2748 - val_accuracy: 0.6040 - 5s/epoch - 6ms/step\n",
            "Epoch 7/30\n",
            "875/875 - 5s - loss: 0.4814 - accuracy: 0.8331 - val_loss: 1.2379 - val_accuracy: 0.6361 - 5s/epoch - 6ms/step\n",
            "Epoch 8/30\n",
            "875/875 - 6s - loss: 0.3799 - accuracy: 0.8656 - val_loss: 1.4490 - val_accuracy: 0.6141 - 6s/epoch - 7ms/step\n",
            "Epoch 9/30\n",
            "875/875 - 6s - loss: 0.3064 - accuracy: 0.8917 - val_loss: 1.3856 - val_accuracy: 0.6567 - 6s/epoch - 7ms/step\n",
            "Epoch 10/30\n",
            "875/875 - 8s - loss: 0.2494 - accuracy: 0.9106 - val_loss: 1.5947 - val_accuracy: 0.6049 - 8s/epoch - 9ms/step\n",
            "Epoch 11/30\n",
            "875/875 - 6s - loss: 0.1922 - accuracy: 0.9338 - val_loss: 1.6166 - val_accuracy: 0.6403 - 6s/epoch - 7ms/step\n",
            "Epoch 12/30\n",
            "875/875 - 5s - loss: 0.1632 - accuracy: 0.9430 - val_loss: 1.7006 - val_accuracy: 0.6409 - 5s/epoch - 6ms/step\n",
            "Epoch 13/30\n",
            "875/875 - 6s - loss: 0.1380 - accuracy: 0.9523 - val_loss: 1.8413 - val_accuracy: 0.6450 - 6s/epoch - 7ms/step\n",
            "Epoch 14/30\n",
            "875/875 - 4s - loss: 0.1156 - accuracy: 0.9611 - val_loss: 1.9531 - val_accuracy: 0.6289 - 4s/epoch - 5ms/step\n",
            "Epoch 15/30\n",
            "875/875 - 5s - loss: 0.0964 - accuracy: 0.9670 - val_loss: 1.8147 - val_accuracy: 0.6430 - 5s/epoch - 5ms/step\n",
            "Epoch 16/30\n",
            "875/875 - 4s - loss: 0.0991 - accuracy: 0.9653 - val_loss: 1.8174 - val_accuracy: 0.6611 - 4s/epoch - 5ms/step\n",
            "Epoch 17/30\n",
            "875/875 - 5s - loss: 0.0761 - accuracy: 0.9724 - val_loss: 1.8676 - val_accuracy: 0.6521 - 5s/epoch - 5ms/step\n",
            "Epoch 18/30\n",
            "875/875 - 4s - loss: 0.0642 - accuracy: 0.9784 - val_loss: 1.8778 - val_accuracy: 0.6463 - 4s/epoch - 5ms/step\n",
            "Epoch 19/30\n",
            "875/875 - 4s - loss: 0.0670 - accuracy: 0.9770 - val_loss: 2.0844 - val_accuracy: 0.6567 - 4s/epoch - 5ms/step\n",
            "Epoch 20/30\n",
            "875/875 - 4s - loss: 0.0529 - accuracy: 0.9816 - val_loss: 2.0168 - val_accuracy: 0.6633 - 4s/epoch - 5ms/step\n",
            "Epoch 21/30\n",
            "875/875 - 4s - loss: 0.0463 - accuracy: 0.9846 - val_loss: 2.0184 - val_accuracy: 0.6607 - 4s/epoch - 5ms/step\n",
            "Epoch 22/30\n",
            "875/875 - 5s - loss: 0.0461 - accuracy: 0.9847 - val_loss: 1.9730 - val_accuracy: 0.6706 - 5s/epoch - 5ms/step\n",
            "Epoch 23/30\n",
            "875/875 - 5s - loss: 0.0385 - accuracy: 0.9865 - val_loss: 2.0955 - val_accuracy: 0.6677 - 5s/epoch - 5ms/step\n",
            "Epoch 24/30\n",
            "875/875 - 4s - loss: 0.0366 - accuracy: 0.9877 - val_loss: 2.1109 - val_accuracy: 0.6561 - 4s/epoch - 5ms/step\n",
            "Epoch 25/30\n",
            "875/875 - 4s - loss: 0.0297 - accuracy: 0.9901 - val_loss: 2.1524 - val_accuracy: 0.6581 - 4s/epoch - 5ms/step\n",
            "Epoch 26/30\n",
            "875/875 - 4s - loss: 0.0234 - accuracy: 0.9922 - val_loss: 2.3020 - val_accuracy: 0.6633 - 4s/epoch - 5ms/step\n",
            "Epoch 27/30\n",
            "875/875 - 4s - loss: 0.0294 - accuracy: 0.9893 - val_loss: 2.2681 - val_accuracy: 0.6610 - 4s/epoch - 5ms/step\n",
            "Epoch 28/30\n",
            "875/875 - 5s - loss: 0.0293 - accuracy: 0.9904 - val_loss: 2.3350 - val_accuracy: 0.6530 - 5s/epoch - 5ms/step\n",
            "Epoch 29/30\n",
            "875/875 - 4s - loss: 0.0352 - accuracy: 0.9879 - val_loss: 2.2597 - val_accuracy: 0.6681 - 4s/epoch - 5ms/step\n",
            "Epoch 30/30\n",
            "875/875 - 4s - loss: 0.0280 - accuracy: 0.9905 - val_loss: 2.2785 - val_accuracy: 0.6753 - 4s/epoch - 5ms/step\n"
          ]
        }
      ]
    },
    {
      "cell_type": "code",
      "source": [
        "#Getting the accuracy score of the model\n",
        "score = lenet_model.evaluate(X_test, y_test, batch_size=128, verbose=0)"
      ],
      "metadata": {
        "id": "uJqrnuScUN9F"
      },
      "execution_count": 192,
      "outputs": []
    },
    {
      "cell_type": "code",
      "source": [
        "#Printing the accuracy score\n",
        "print(lenet_model.metrics_names)\n",
        "print(score)"
      ],
      "metadata": {
        "colab": {
          "base_uri": "https://localhost:8080/"
        },
        "id": "jJltxz4TUQH3",
        "outputId": "8f217f59-6c69-4b30-aac3-75b177654263"
      },
      "execution_count": 193,
      "outputs": [
        {
          "output_type": "stream",
          "name": "stdout",
          "text": [
            "['loss', 'accuracy']\n",
            "[2.226181983947754, 0.6722000241279602]\n"
          ]
        }
      ]
    },
    {
      "cell_type": "code",
      "source": [
        "#Plotting training and validation loss\n",
        "plot_history(history, yrange=(0.9,1))"
      ],
      "metadata": {
        "colab": {
          "base_uri": "https://localhost:8080/",
          "height": 281
        },
        "id": "35Yjj9Pq0pAz",
        "outputId": "2bdb1659-be5f-4620-9524-023e409ecbe2"
      },
      "execution_count": 194,
      "outputs": [
        {
          "output_type": "display_data",
          "data": {
            "image/png": "[encoded data removed]",
            "text/plain": [
              "<Figure size 432x288 with 1 Axes>"
            ]
          },
          "metadata": {
            "needs_background": "light"
          }
        }
      ]
    },
    {
      "cell_type": "markdown",
      "source": [
        "### (2) Adding Dropout Layers"
      ],
      "metadata": {
        "id": "tYxhhO9NBJ_f"
      }
    },
    {
      "cell_type": "code",
      "source": [
        "lenet_model = keras.Sequential()\n",
        "\n",
        "#Convolutional layer #1\n",
        "lenet_model.add(layers.Conv2D(filters=64, kernel_size=(3, 3), activation='relu', input_shape=(32,32,3)))\n",
        "lenet_model.add(layers.AveragePooling2D())\n",
        "#Adding in batch normalization\n",
        "lenet_model.add(BatchNormalization())\n",
        "\n",
        "#Convolutional layer #2\n",
        "lenet_model.add(layers.Conv2D(filters=64, kernel_size=(3, 3), activation='relu'))\n",
        "lenet_model.add(layers.AveragePooling2D())\n",
        "#Adding in batch normalization\n",
        "lenet_model.add(BatchNormalization())\n",
        "#Adding dropout layer\n",
        "lenet_model.add(layers.Dropout(0.25))\n",
        "\n",
        "#Flattening layer\n",
        "lenet_model.add(layers.Flatten())\n",
        "\n",
        "#Fullyer connected layers\n",
        "lenet_model.add(layers.Dense(units=256, activation='relu'))\n",
        "lenet_model.add(layers.Dense(units=120, activation='relu'))\n",
        "\n",
        "#Adding in batch normalization\n",
        "lenet_model.add(BatchNormalization())\n",
        "\n",
        "#Adding dropout\n",
        "lenet_model.add(layers.Dropout(0.50))\n",
        "\n",
        "#Classification layer\n",
        "lenet_model.add(layers.Dense(units=10, activation = 'softmax'))\n",
        "\n",
        "#SGD as optimizer\n",
        "sgd = SGD(lr=0.01, decay=1e-6, momentum=0.9, nesterov=True)\n",
        "lenet_model.compile(loss='categorical_crossentropy', metrics=['accuracy'], optimizer=sgd)"
      ],
      "metadata": {
        "colab": {
          "base_uri": "https://localhost:8080/"
        },
        "id": "XRo0ZtysVODc",
        "outputId": "19ce0a9b-ff45-494f-9a98-0d271976ee86"
      },
      "execution_count": 195,
      "outputs": [
        {
          "output_type": "stream",
          "name": "stderr",
          "text": [
            "/usr/local/lib/python3.7/dist-packages/keras/optimizer_v2/gradient_descent.py:102: UserWarning: The `lr` argument is deprecated, use `learning_rate` instead.\n",
            "  super(SGD, self).__init__(name, **kwargs)\n"
          ]
        }
      ]
    },
    {
      "cell_type": "code",
      "source": [
        "#Training the CNN\n",
        "history = lenet_model.fit(X_train, y_train, batch_size=32, epochs=30, verbose=2, validation_split=0.2)"
      ],
      "metadata": {
        "colab": {
          "base_uri": "https://localhost:8080/"
        },
        "id": "LCr7kVw9YNmh",
        "outputId": "24089f47-92d4-4e4a-c3f1-efe043ccb607"
      },
      "execution_count": 196,
      "outputs": [
        {
          "output_type": "stream",
          "name": "stdout",
          "text": [
            "Epoch 1/30\n",
            "875/875 - 6s - loss: 1.8407 - accuracy: 0.3458 - val_loss: 1.6171 - val_accuracy: 0.4036 - 6s/epoch - 7ms/step\n",
            "Epoch 2/30\n",
            "875/875 - 4s - loss: 1.4726 - accuracy: 0.4692 - val_loss: 1.6827 - val_accuracy: 0.4144 - 4s/epoch - 5ms/step\n",
            "Epoch 3/30\n",
            "875/875 - 4s - loss: 1.3122 - accuracy: 0.5323 - val_loss: 1.2184 - val_accuracy: 0.5689 - 4s/epoch - 5ms/step\n",
            "Epoch 4/30\n",
            "875/875 - 4s - loss: 1.1828 - accuracy: 0.5814 - val_loss: 1.1469 - val_accuracy: 0.5904 - 4s/epoch - 5ms/step\n",
            "Epoch 5/30\n",
            "875/875 - 4s - loss: 1.0828 - accuracy: 0.6227 - val_loss: 1.0737 - val_accuracy: 0.6189 - 4s/epoch - 5ms/step\n",
            "Epoch 6/30\n",
            "875/875 - 5s - loss: 1.0021 - accuracy: 0.6491 - val_loss: 1.0570 - val_accuracy: 0.6294 - 5s/epoch - 6ms/step\n",
            "Epoch 7/30\n",
            "875/875 - 4s - loss: 0.9170 - accuracy: 0.6849 - val_loss: 1.1468 - val_accuracy: 0.6039 - 4s/epoch - 5ms/step\n",
            "Epoch 8/30\n",
            "875/875 - 4s - loss: 0.8531 - accuracy: 0.7049 - val_loss: 1.0109 - val_accuracy: 0.6470 - 4s/epoch - 5ms/step\n",
            "Epoch 9/30\n",
            "875/875 - 5s - loss: 0.7884 - accuracy: 0.7267 - val_loss: 0.9998 - val_accuracy: 0.6541 - 5s/epoch - 6ms/step\n",
            "Epoch 10/30\n",
            "875/875 - 4s - loss: 0.7200 - accuracy: 0.7507 - val_loss: 0.9919 - val_accuracy: 0.6627 - 4s/epoch - 5ms/step\n",
            "Epoch 11/30\n",
            "875/875 - 4s - loss: 0.6664 - accuracy: 0.7698 - val_loss: 0.9493 - val_accuracy: 0.6824 - 4s/epoch - 5ms/step\n",
            "Epoch 12/30\n",
            "875/875 - 4s - loss: 0.6106 - accuracy: 0.7885 - val_loss: 0.9962 - val_accuracy: 0.6769 - 4s/epoch - 5ms/step\n",
            "Epoch 13/30\n",
            "875/875 - 4s - loss: 0.5562 - accuracy: 0.8055 - val_loss: 1.0521 - val_accuracy: 0.6604 - 4s/epoch - 5ms/step\n",
            "Epoch 14/30\n",
            "875/875 - 4s - loss: 0.5065 - accuracy: 0.8228 - val_loss: 1.2746 - val_accuracy: 0.6137 - 4s/epoch - 5ms/step\n",
            "Epoch 15/30\n",
            "875/875 - 4s - loss: 0.4680 - accuracy: 0.8398 - val_loss: 1.0545 - val_accuracy: 0.6824 - 4s/epoch - 5ms/step\n",
            "Epoch 16/30\n",
            "875/875 - 5s - loss: 0.4328 - accuracy: 0.8520 - val_loss: 1.1439 - val_accuracy: 0.6604 - 5s/epoch - 6ms/step\n",
            "Epoch 17/30\n",
            "875/875 - 4s - loss: 0.3916 - accuracy: 0.8656 - val_loss: 1.1383 - val_accuracy: 0.6627 - 4s/epoch - 5ms/step\n",
            "Epoch 18/30\n",
            "875/875 - 5s - loss: 0.3591 - accuracy: 0.8758 - val_loss: 1.0932 - val_accuracy: 0.6911 - 5s/epoch - 6ms/step\n",
            "Epoch 19/30\n",
            "875/875 - 4s - loss: 0.3378 - accuracy: 0.8833 - val_loss: 1.3270 - val_accuracy: 0.6211 - 4s/epoch - 5ms/step\n",
            "Epoch 20/30\n",
            "875/875 - 4s - loss: 0.3053 - accuracy: 0.8955 - val_loss: 1.2436 - val_accuracy: 0.6606 - 4s/epoch - 5ms/step\n",
            "Epoch 21/30\n",
            "875/875 - 5s - loss: 0.2876 - accuracy: 0.9034 - val_loss: 1.3078 - val_accuracy: 0.6790 - 5s/epoch - 5ms/step\n",
            "Epoch 22/30\n",
            "875/875 - 5s - loss: 0.2687 - accuracy: 0.9075 - val_loss: 1.1886 - val_accuracy: 0.6770 - 5s/epoch - 5ms/step\n",
            "Epoch 23/30\n",
            "875/875 - 4s - loss: 0.2486 - accuracy: 0.9132 - val_loss: 1.2255 - val_accuracy: 0.6921 - 4s/epoch - 5ms/step\n",
            "Epoch 24/30\n",
            "875/875 - 5s - loss: 0.2357 - accuracy: 0.9186 - val_loss: 1.1980 - val_accuracy: 0.6969 - 5s/epoch - 6ms/step\n",
            "Epoch 25/30\n",
            "875/875 - 4s - loss: 0.2137 - accuracy: 0.9262 - val_loss: 1.2466 - val_accuracy: 0.6867 - 4s/epoch - 5ms/step\n",
            "Epoch 26/30\n",
            "875/875 - 4s - loss: 0.2000 - accuracy: 0.9320 - val_loss: 1.3425 - val_accuracy: 0.6813 - 4s/epoch - 5ms/step\n",
            "Epoch 27/30\n",
            "875/875 - 4s - loss: 0.1857 - accuracy: 0.9367 - val_loss: 1.3283 - val_accuracy: 0.6874 - 4s/epoch - 5ms/step\n",
            "Epoch 28/30\n",
            "875/875 - 4s - loss: 0.1818 - accuracy: 0.9377 - val_loss: 1.3364 - val_accuracy: 0.6876 - 4s/epoch - 5ms/step\n",
            "Epoch 29/30\n",
            "875/875 - 5s - loss: 0.1757 - accuracy: 0.9404 - val_loss: 1.2775 - val_accuracy: 0.6940 - 5s/epoch - 6ms/step\n",
            "Epoch 30/30\n",
            "875/875 - 5s - loss: 0.1596 - accuracy: 0.9463 - val_loss: 1.3714 - val_accuracy: 0.6871 - 5s/epoch - 6ms/step\n"
          ]
        }
      ]
    },
    {
      "cell_type": "code",
      "source": [
        "#Getting the accuracy score of the model\n",
        "score = lenet_model.evaluate(X_test, y_test, batch_size=128, verbose=0)"
      ],
      "metadata": {
        "id": "1zSfDqdoYP0w"
      },
      "execution_count": 197,
      "outputs": []
    },
    {
      "cell_type": "code",
      "source": [
        "#Printing the accuracy score\n",
        "print(lenet_model.metrics_names)\n",
        "print(score)"
      ],
      "metadata": {
        "colab": {
          "base_uri": "https://localhost:8080/"
        },
        "id": "HiGy8mw1YR1d",
        "outputId": "71a35857-e1a1-475a-8fb1-4baa5d5c72bf"
      },
      "execution_count": 198,
      "outputs": [
        {
          "output_type": "stream",
          "name": "stdout",
          "text": [
            "['loss', 'accuracy']\n",
            "[1.2922841310501099, 0.6998000144958496]\n"
          ]
        }
      ]
    },
    {
      "cell_type": "code",
      "source": [
        "#Plotting training and validation loss\n",
        "plot_history(history, yrange=(0.9,1))"
      ],
      "metadata": {
        "colab": {
          "base_uri": "https://localhost:8080/",
          "height": 281
        },
        "id": "ckLpkU420qg7",
        "outputId": "f0dd37b2-7cff-419f-e335-e13b314330e5"
      },
      "execution_count": 199,
      "outputs": [
        {
          "output_type": "display_data",
          "data": {
            "image/png": "[encoded data removed]",
            "text/plain": [
              "<Figure size 432x288 with 1 Axes>"
            ]
          },
          "metadata": {
            "needs_background": "light"
          }
        }
      ]
    },
    {
      "cell_type": "markdown",
      "source": [
        "### (3) Trying the Adam Optimizer"
      ],
      "metadata": {
        "id": "4ZxsZEsbB-6u"
      }
    },
    {
      "cell_type": "code",
      "source": [
        "lenet_model = keras.Sequential()\n",
        "\n",
        "#Convolutional layer #1\n",
        "lenet_model.add(layers.Conv2D(filters=64, kernel_size=(3, 3), activation='relu', input_shape=(32,32,3)))\n",
        "lenet_model.add(layers.AveragePooling2D())\n",
        "#Adding in batch normalization\n",
        "lenet_model.add(BatchNormalization())\n",
        "\n",
        "#Convolutional layer #2\n",
        "lenet_model.add(layers.Conv2D(filters=64, kernel_size=(3, 3), activation='relu'))\n",
        "lenet_model.add(layers.AveragePooling2D())\n",
        "#Adding in batch normalization\n",
        "lenet_model.add(BatchNormalization())\n",
        "#Adding dropout layer\n",
        "lenet_model.add(layers.Dropout(0.25))\n",
        "\n",
        "#Flattening layer\n",
        "lenet_model.add(layers.Flatten())\n",
        "\n",
        "#Fullyer connected layers\n",
        "lenet_model.add(layers.Dense(units=256, activation='relu'))\n",
        "lenet_model.add(layers.Dense(units=120, activation='relu'))\n",
        "\n",
        "#Adding in batch normalization\n",
        "lenet_model.add(BatchNormalization())\n",
        "\n",
        "#Adding dropout\n",
        "lenet_model.add(layers.Dropout(0.50))\n",
        "\n",
        "#Classification layer\n",
        "lenet_model.add(layers.Dense(units=10, activation = 'softmax'))\n",
        "\n",
        "adam = Adam(learning_rate=0.001,\n",
        "    beta_1=0.9,\n",
        "    beta_2=0.999,\n",
        "    epsilon=1e-07,\n",
        "    amsgrad=False)\n",
        "lenet_model.compile(loss='categorical_crossentropy', metrics=['accuracy'], optimizer=adam)"
      ],
      "metadata": {
        "id": "PPz-FVd1ZPTP"
      },
      "execution_count": 200,
      "outputs": []
    },
    {
      "cell_type": "code",
      "source": [
        "#Training the CNN\n",
        "history = lenet_model.fit(X_train, y_train, batch_size=32, epochs=30, verbose=2, validation_split=0.2)"
      ],
      "metadata": {
        "colab": {
          "base_uri": "https://localhost:8080/"
        },
        "id": "0l8ONn3zZm8O",
        "outputId": "031c40a6-97f1-4473-de6a-a6b2ab4cfc3e"
      },
      "execution_count": 201,
      "outputs": [
        {
          "output_type": "stream",
          "name": "stdout",
          "text": [
            "Epoch 1/30\n",
            "875/875 - 6s - loss: 1.8452 - accuracy: 0.3736 - val_loss: 1.5285 - val_accuracy: 0.4564 - 6s/epoch - 6ms/step\n",
            "Epoch 2/30\n",
            "875/875 - 4s - loss: 1.3347 - accuracy: 0.5269 - val_loss: 2.0062 - val_accuracy: 0.3893 - 4s/epoch - 5ms/step\n",
            "Epoch 3/30\n",
            "875/875 - 4s - loss: 1.1482 - accuracy: 0.5984 - val_loss: 1.1875 - val_accuracy: 0.5820 - 4s/epoch - 5ms/step\n",
            "Epoch 4/30\n",
            "875/875 - 4s - loss: 1.0255 - accuracy: 0.6424 - val_loss: 1.1019 - val_accuracy: 0.6233 - 4s/epoch - 5ms/step\n",
            "Epoch 5/30\n",
            "875/875 - 5s - loss: 0.9217 - accuracy: 0.6822 - val_loss: 1.1219 - val_accuracy: 0.6061 - 5s/epoch - 6ms/step\n",
            "Epoch 6/30\n",
            "875/875 - 4s - loss: 0.8247 - accuracy: 0.7120 - val_loss: 0.9689 - val_accuracy: 0.6706 - 4s/epoch - 5ms/step\n",
            "Epoch 7/30\n",
            "875/875 - 5s - loss: 0.7278 - accuracy: 0.7474 - val_loss: 1.0499 - val_accuracy: 0.6604 - 5s/epoch - 6ms/step\n",
            "Epoch 8/30\n",
            "875/875 - 5s - loss: 0.6427 - accuracy: 0.7779 - val_loss: 1.0152 - val_accuracy: 0.6641 - 5s/epoch - 6ms/step\n",
            "Epoch 9/30\n",
            "875/875 - 4s - loss: 0.5724 - accuracy: 0.8049 - val_loss: 0.9677 - val_accuracy: 0.6910 - 4s/epoch - 5ms/step\n",
            "Epoch 10/30\n",
            "875/875 - 4s - loss: 0.4947 - accuracy: 0.8294 - val_loss: 0.9489 - val_accuracy: 0.6863 - 4s/epoch - 5ms/step\n",
            "Epoch 11/30\n",
            "875/875 - 5s - loss: 0.4242 - accuracy: 0.8539 - val_loss: 1.8187 - val_accuracy: 0.5549 - 5s/epoch - 6ms/step\n",
            "Epoch 12/30\n",
            "875/875 - 5s - loss: 0.3805 - accuracy: 0.8705 - val_loss: 1.0964 - val_accuracy: 0.6827 - 5s/epoch - 6ms/step\n",
            "Epoch 13/30\n",
            "875/875 - 4s - loss: 0.3399 - accuracy: 0.8838 - val_loss: 1.0964 - val_accuracy: 0.6896 - 4s/epoch - 5ms/step\n",
            "Epoch 14/30\n",
            "875/875 - 5s - loss: 0.3061 - accuracy: 0.8954 - val_loss: 1.1161 - val_accuracy: 0.6961 - 5s/epoch - 6ms/step\n",
            "Epoch 15/30\n",
            "875/875 - 5s - loss: 0.2715 - accuracy: 0.9070 - val_loss: 1.0588 - val_accuracy: 0.6953 - 5s/epoch - 6ms/step\n",
            "Epoch 16/30\n",
            "875/875 - 4s - loss: 0.2455 - accuracy: 0.9163 - val_loss: 1.1158 - val_accuracy: 0.6993 - 4s/epoch - 5ms/step\n",
            "Epoch 17/30\n",
            "875/875 - 4s - loss: 0.2226 - accuracy: 0.9248 - val_loss: 1.3051 - val_accuracy: 0.6849 - 4s/epoch - 5ms/step\n",
            "Epoch 18/30\n",
            "875/875 - 4s - loss: 0.2100 - accuracy: 0.9306 - val_loss: 1.2451 - val_accuracy: 0.6834 - 4s/epoch - 5ms/step\n",
            "Epoch 19/30\n",
            "875/875 - 5s - loss: 0.2049 - accuracy: 0.9311 - val_loss: 1.2484 - val_accuracy: 0.6950 - 5s/epoch - 6ms/step\n",
            "Epoch 20/30\n",
            "875/875 - 5s - loss: 0.1876 - accuracy: 0.9374 - val_loss: 1.3878 - val_accuracy: 0.6914 - 5s/epoch - 6ms/step\n",
            "Epoch 21/30\n",
            "875/875 - 4s - loss: 0.1718 - accuracy: 0.9430 - val_loss: 1.4056 - val_accuracy: 0.6766 - 4s/epoch - 5ms/step\n",
            "Epoch 22/30\n",
            "875/875 - 4s - loss: 0.1687 - accuracy: 0.9427 - val_loss: 1.3525 - val_accuracy: 0.6710 - 4s/epoch - 5ms/step\n",
            "Epoch 23/30\n",
            "875/875 - 4s - loss: 0.1544 - accuracy: 0.9481 - val_loss: 1.3037 - val_accuracy: 0.6957 - 4s/epoch - 5ms/step\n",
            "Epoch 24/30\n",
            "875/875 - 4s - loss: 0.1581 - accuracy: 0.9468 - val_loss: 1.2934 - val_accuracy: 0.6769 - 4s/epoch - 5ms/step\n",
            "Epoch 25/30\n",
            "875/875 - 4s - loss: 0.1438 - accuracy: 0.9517 - val_loss: 1.2901 - val_accuracy: 0.6909 - 4s/epoch - 5ms/step\n",
            "Epoch 26/30\n",
            "875/875 - 5s - loss: 0.1380 - accuracy: 0.9545 - val_loss: 1.3282 - val_accuracy: 0.6879 - 5s/epoch - 6ms/step\n",
            "Epoch 27/30\n",
            "875/875 - 5s - loss: 0.1315 - accuracy: 0.9568 - val_loss: 1.4819 - val_accuracy: 0.6929 - 5s/epoch - 6ms/step\n",
            "Epoch 28/30\n",
            "875/875 - 4s - loss: 0.1301 - accuracy: 0.9564 - val_loss: 1.4873 - val_accuracy: 0.6769 - 4s/epoch - 5ms/step\n",
            "Epoch 29/30\n",
            "875/875 - 4s - loss: 0.1302 - accuracy: 0.9569 - val_loss: 1.3624 - val_accuracy: 0.6811 - 4s/epoch - 5ms/step\n",
            "Epoch 30/30\n",
            "875/875 - 5s - loss: 0.1208 - accuracy: 0.9596 - val_loss: 1.3861 - val_accuracy: 0.6894 - 5s/epoch - 6ms/step\n"
          ]
        }
      ]
    },
    {
      "cell_type": "code",
      "source": [
        "#Getting the accuracy score of the model\n",
        "score = lenet_model.evaluate(X_test, y_test, batch_size=128, verbose=0)"
      ],
      "metadata": {
        "id": "n4xq1rlBASBP"
      },
      "execution_count": 202,
      "outputs": []
    },
    {
      "cell_type": "code",
      "source": [
        "#Printing the accuracy score\n",
        "print(lenet_model.metrics_names)\n",
        "print(score)"
      ],
      "metadata": {
        "colab": {
          "base_uri": "https://localhost:8080/"
        },
        "id": "wuYK9I4AAg7Q",
        "outputId": "0d8d8244-4f0b-488b-cc8d-dc1186d0b8a5"
      },
      "execution_count": 203,
      "outputs": [
        {
          "output_type": "stream",
          "name": "stdout",
          "text": [
            "['loss', 'accuracy']\n",
            "[1.329882264137268, 0.6980000138282776]\n"
          ]
        }
      ]
    },
    {
      "cell_type": "code",
      "source": [
        "#Plotting training and validation loss\n",
        "plot_history(history, yrange=(0.9,1))"
      ],
      "metadata": {
        "colab": {
          "base_uri": "https://localhost:8080/",
          "height": 281
        },
        "id": "69eu0b-r0r_b",
        "outputId": "c8dfa376-a8e0-4a30-b3f0-1a9e4596f9ff"
      },
      "execution_count": 204,
      "outputs": [
        {
          "output_type": "display_data",
          "data": {
            "image/png": "[encoded data removed]",
            "text/plain": [
              "<Figure size 432x288 with 1 Axes>"
            ]
          },
          "metadata": {
            "needs_background": "light"
          }
        }
      ]
    },
    {
      "cell_type": "markdown",
      "source": [
        "### (4) Data Augmentation"
      ],
      "metadata": {
        "id": "U0LPxV8IAjYF"
      }
    },
    {
      "cell_type": "code",
      "source": [
        "from keras.preprocessing.image import ImageDataGenerator"
      ],
      "metadata": {
        "id": "kkS9m9EUG0SG"
      },
      "execution_count": 205,
      "outputs": []
    },
    {
      "cell_type": "code",
      "source": [
        "#Data augmentation by rotatingm shifting (width and height), zooming, flipping, brightening, and filling pixels\n",
        "#Creaing new validation and traning data with this to train the model on\n",
        "train_datagen = ImageDataGenerator(\n",
        "        rotation_range=40,\n",
        "        width_shift_range=0.2,\n",
        "        height_shift_range=0.2,\n",
        "        shear_range=0.2,\n",
        "        zoom_range=0.2,\n",
        "        horizontal_flip=True,\n",
        "        brightness_range=[0.2,1.2],\n",
        "        fill_mode='nearest')\n",
        "val_datagen = ImageDataGenerator()\n",
        "training_generator = train_datagen.flow(X_train[:28000], y_train[:28000], batch_size=32)\n",
        "val_generator = val_datagen.flow(X_train[28000:], y_train[28000:], batch_size=32)"
      ],
      "metadata": {
        "id": "KQgqE6yfCScC"
      },
      "execution_count": 206,
      "outputs": []
    },
    {
      "cell_type": "code",
      "source": [
        "#Same model as in previous step\n",
        "lenet_model = keras.Sequential()\n",
        "\n",
        "#Convolutional layer #1\n",
        "lenet_model.add(layers.Conv2D(filters=64, kernel_size=(3, 3), activation='relu', input_shape=(32,32,3)))\n",
        "lenet_model.add(layers.AveragePooling2D())\n",
        "#Adding in batch normalization\n",
        "lenet_model.add(BatchNormalization())\n",
        "\n",
        "#Convolutional layer #2\n",
        "lenet_model.add(layers.Conv2D(filters=64, kernel_size=(3, 3), activation='relu'))\n",
        "lenet_model.add(layers.AveragePooling2D())\n",
        "#Adding in batch normalization\n",
        "lenet_model.add(BatchNormalization())\n",
        "#Adding dropout layer\n",
        "lenet_model.add(layers.Dropout(0.25))\n",
        "\n",
        "#Flattening layer\n",
        "lenet_model.add(layers.Flatten())\n",
        "\n",
        "#Fully connected layers\n",
        "lenet_model.add(layers.Dense(units=256, activation='relu'))\n",
        "lenet_model.add(layers.Dense(units=120, activation='relu'))\n",
        "\n",
        "#Adding in batch normalization\n",
        "lenet_model.add(BatchNormalization())\n",
        "\n",
        "#Adding dropout\n",
        "lenet_model.add(layers.Dropout(0.50))\n",
        "\n",
        "#Classification layer\n",
        "lenet_model.add(layers.Dense(units=10, activation = 'softmax'))\n",
        "\n",
        "adam = Adam(learning_rate=0.001,\n",
        "    beta_1=0.9,\n",
        "    beta_2=0.999,\n",
        "    epsilon=1e-07,\n",
        "    amsgrad=False)\n",
        "lenet_model.compile(loss='categorical_crossentropy', metrics=['accuracy'], optimizer=adam)"
      ],
      "metadata": {
        "id": "HGDDArHnNhH-"
      },
      "execution_count": 207,
      "outputs": []
    },
    {
      "cell_type": "code",
      "source": [
        "#Training the CNN\n",
        "history = lenet_model.fit(X_train, y_train, batch_size=32, epochs=30, verbose=2, validation_split=0.2)"
      ],
      "metadata": {
        "id": "UtxdYq-fOQ1i",
        "colab": {
          "base_uri": "https://localhost:8080/"
        },
        "outputId": "589077a1-7c68-41b2-a582-aee39741bf30"
      },
      "execution_count": 208,
      "outputs": [
        {
          "output_type": "stream",
          "name": "stdout",
          "text": [
            "Epoch 1/30\n",
            "875/875 - 5s - loss: 1.7979 - accuracy: 0.3938 - val_loss: 1.7159 - val_accuracy: 0.3784 - 5s/epoch - 6ms/step\n",
            "Epoch 2/30\n",
            "875/875 - 4s - loss: 1.2936 - accuracy: 0.5438 - val_loss: 1.3130 - val_accuracy: 0.5314 - 4s/epoch - 5ms/step\n",
            "Epoch 3/30\n",
            "875/875 - 5s - loss: 1.1125 - accuracy: 0.6102 - val_loss: 1.1194 - val_accuracy: 0.6017 - 5s/epoch - 6ms/step\n",
            "Epoch 4/30\n",
            "875/875 - 4s - loss: 0.9949 - accuracy: 0.6559 - val_loss: 1.2963 - val_accuracy: 0.5669 - 4s/epoch - 5ms/step\n",
            "Epoch 5/30\n",
            "875/875 - 4s - loss: 0.8967 - accuracy: 0.6933 - val_loss: 0.9436 - val_accuracy: 0.6727 - 4s/epoch - 5ms/step\n",
            "Epoch 6/30\n",
            "875/875 - 5s - loss: 0.8006 - accuracy: 0.7250 - val_loss: 0.9078 - val_accuracy: 0.6823 - 5s/epoch - 6ms/step\n",
            "Epoch 7/30\n",
            "875/875 - 5s - loss: 0.7109 - accuracy: 0.7547 - val_loss: 0.9894 - val_accuracy: 0.6556 - 5s/epoch - 6ms/step\n",
            "Epoch 8/30\n",
            "875/875 - 4s - loss: 0.6387 - accuracy: 0.7792 - val_loss: 1.1236 - val_accuracy: 0.6451 - 4s/epoch - 5ms/step\n",
            "Epoch 9/30\n",
            "875/875 - 5s - loss: 0.5463 - accuracy: 0.8121 - val_loss: 1.2077 - val_accuracy: 0.6226 - 5s/epoch - 6ms/step\n",
            "Epoch 10/30\n",
            "875/875 - 5s - loss: 0.4733 - accuracy: 0.8387 - val_loss: 0.9901 - val_accuracy: 0.6777 - 5s/epoch - 6ms/step\n",
            "Epoch 11/30\n",
            "875/875 - 5s - loss: 0.4203 - accuracy: 0.8562 - val_loss: 1.1103 - val_accuracy: 0.6727 - 5s/epoch - 6ms/step\n",
            "Epoch 12/30\n",
            "875/875 - 4s - loss: 0.3721 - accuracy: 0.8740 - val_loss: 1.1294 - val_accuracy: 0.6807 - 4s/epoch - 5ms/step\n",
            "Epoch 13/30\n",
            "875/875 - 4s - loss: 0.3297 - accuracy: 0.8855 - val_loss: 1.0911 - val_accuracy: 0.6967 - 4s/epoch - 5ms/step\n",
            "Epoch 14/30\n",
            "875/875 - 4s - loss: 0.3068 - accuracy: 0.8964 - val_loss: 1.0644 - val_accuracy: 0.7054 - 4s/epoch - 5ms/step\n",
            "Epoch 15/30\n",
            "875/875 - 5s - loss: 0.2708 - accuracy: 0.9088 - val_loss: 1.0424 - val_accuracy: 0.7024 - 5s/epoch - 6ms/step\n",
            "Epoch 16/30\n",
            "875/875 - 4s - loss: 0.2427 - accuracy: 0.9178 - val_loss: 1.1829 - val_accuracy: 0.6777 - 4s/epoch - 5ms/step\n",
            "Epoch 17/30\n",
            "875/875 - 5s - loss: 0.2319 - accuracy: 0.9198 - val_loss: 1.1456 - val_accuracy: 0.6924 - 5s/epoch - 6ms/step\n",
            "Epoch 18/30\n",
            "875/875 - 5s - loss: 0.2198 - accuracy: 0.9271 - val_loss: 1.2177 - val_accuracy: 0.6837 - 5s/epoch - 6ms/step\n",
            "Epoch 19/30\n",
            "875/875 - 5s - loss: 0.1939 - accuracy: 0.9358 - val_loss: 1.2140 - val_accuracy: 0.6920 - 5s/epoch - 6ms/step\n",
            "Epoch 20/30\n",
            "875/875 - 4s - loss: 0.1836 - accuracy: 0.9372 - val_loss: 1.1802 - val_accuracy: 0.7139 - 4s/epoch - 5ms/step\n",
            "Epoch 21/30\n",
            "875/875 - 5s - loss: 0.1849 - accuracy: 0.9369 - val_loss: 1.2157 - val_accuracy: 0.7006 - 5s/epoch - 6ms/step\n",
            "Epoch 22/30\n",
            "875/875 - 4s - loss: 0.1706 - accuracy: 0.9415 - val_loss: 1.2289 - val_accuracy: 0.6927 - 4s/epoch - 5ms/step\n",
            "Epoch 23/30\n",
            "875/875 - 5s - loss: 0.1554 - accuracy: 0.9463 - val_loss: 1.2913 - val_accuracy: 0.7006 - 5s/epoch - 6ms/step\n",
            "Epoch 24/30\n",
            "875/875 - 4s - loss: 0.1583 - accuracy: 0.9479 - val_loss: 1.2391 - val_accuracy: 0.6943 - 4s/epoch - 5ms/step\n",
            "Epoch 25/30\n",
            "875/875 - 4s - loss: 0.1448 - accuracy: 0.9515 - val_loss: 1.2756 - val_accuracy: 0.7101 - 4s/epoch - 5ms/step\n",
            "Epoch 26/30\n",
            "875/875 - 4s - loss: 0.1408 - accuracy: 0.9524 - val_loss: 1.4008 - val_accuracy: 0.6830 - 4s/epoch - 5ms/step\n",
            "Epoch 27/30\n",
            "875/875 - 4s - loss: 0.1292 - accuracy: 0.9572 - val_loss: 1.2842 - val_accuracy: 0.7073 - 4s/epoch - 5ms/step\n",
            "Epoch 28/30\n",
            "875/875 - 4s - loss: 0.1287 - accuracy: 0.9574 - val_loss: 1.2366 - val_accuracy: 0.7123 - 4s/epoch - 5ms/step\n",
            "Epoch 29/30\n",
            "875/875 - 4s - loss: 0.1230 - accuracy: 0.9592 - val_loss: 1.3313 - val_accuracy: 0.6843 - 4s/epoch - 5ms/step\n",
            "Epoch 30/30\n",
            "875/875 - 4s - loss: 0.1140 - accuracy: 0.9608 - val_loss: 1.2671 - val_accuracy: 0.7111 - 4s/epoch - 5ms/step\n"
          ]
        }
      ]
    },
    {
      "cell_type": "code",
      "source": [
        "#Fitting the model on the augmented data\n",
        "history = lenet_model.fit_generator(training_generator,    \n",
        "                    validation_data=val_generator,\n",
        "                    validation_steps=len(X_train[28000:]) / 32,\n",
        "                    steps_per_epoch=len(X_train[:28000]) / 32,\n",
        "                    epochs=15,\n",
        "                    verbose=2)"
      ],
      "metadata": {
        "colab": {
          "base_uri": "https://localhost:8080/"
        },
        "id": "N5j1LWrnOGIJ",
        "outputId": "aaa5f677-b842-484f-e40e-754dce23e7ba"
      },
      "execution_count": 209,
      "outputs": [
        {
          "output_type": "stream",
          "name": "stderr",
          "text": [
            "/usr/local/lib/python3.7/dist-packages/ipykernel_launcher.py:7: UserWarning: `Model.fit_generator` is deprecated and will be removed in a future version. Please use `Model.fit`, which supports generators.\n",
            "  import sys\n"
          ]
        },
        {
          "output_type": "stream",
          "name": "stdout",
          "text": [
            "Epoch 1/15\n",
            "875/875 - 28s - loss: 1.7359 - accuracy: 0.4501 - val_loss: 2.4303 - val_accuracy: 0.0947 - 28s/epoch - 32ms/step\n",
            "Epoch 2/15\n",
            "875/875 - 27s - loss: 1.4285 - accuracy: 0.4989 - val_loss: 2.6209 - val_accuracy: 0.1073 - 27s/epoch - 31ms/step\n",
            "Epoch 3/15\n",
            "875/875 - 27s - loss: 1.3778 - accuracy: 0.5170 - val_loss: 2.6097 - val_accuracy: 0.1000 - 27s/epoch - 31ms/step\n",
            "Epoch 4/15\n",
            "875/875 - 27s - loss: 1.3437 - accuracy: 0.5324 - val_loss: 2.6532 - val_accuracy: 0.1183 - 27s/epoch - 31ms/step\n",
            "Epoch 5/15\n",
            "875/875 - 27s - loss: 1.3256 - accuracy: 0.5389 - val_loss: 2.7796 - val_accuracy: 0.0936 - 27s/epoch - 31ms/step\n",
            "Epoch 6/15\n",
            "875/875 - 28s - loss: 1.2903 - accuracy: 0.5506 - val_loss: 2.7876 - val_accuracy: 0.1000 - 28s/epoch - 31ms/step\n",
            "Epoch 7/15\n",
            "875/875 - 27s - loss: 1.2745 - accuracy: 0.5575 - val_loss: 2.6045 - val_accuracy: 0.0997 - 27s/epoch - 31ms/step\n",
            "Epoch 8/15\n",
            "875/875 - 28s - loss: 1.2539 - accuracy: 0.5635 - val_loss: 3.0300 - val_accuracy: 0.1006 - 28s/epoch - 32ms/step\n",
            "Epoch 9/15\n",
            "875/875 - 28s - loss: 1.2376 - accuracy: 0.5692 - val_loss: 3.1442 - val_accuracy: 0.0956 - 28s/epoch - 31ms/step\n",
            "Epoch 10/15\n",
            "875/875 - 28s - loss: 1.2275 - accuracy: 0.5749 - val_loss: 2.5563 - val_accuracy: 0.0936 - 28s/epoch - 32ms/step\n",
            "Epoch 11/15\n",
            "875/875 - 28s - loss: 1.2181 - accuracy: 0.5775 - val_loss: 2.7330 - val_accuracy: 0.0939 - 28s/epoch - 31ms/step\n",
            "Epoch 12/15\n",
            "875/875 - 27s - loss: 1.2032 - accuracy: 0.5854 - val_loss: 2.6586 - val_accuracy: 0.1006 - 27s/epoch - 31ms/step\n",
            "Epoch 13/15\n",
            "875/875 - 27s - loss: 1.1927 - accuracy: 0.5872 - val_loss: 2.6755 - val_accuracy: 0.0951 - 27s/epoch - 31ms/step\n",
            "Epoch 14/15\n",
            "875/875 - 29s - loss: 1.1777 - accuracy: 0.5950 - val_loss: 2.6979 - val_accuracy: 0.0949 - 29s/epoch - 33ms/step\n",
            "Epoch 15/15\n",
            "875/875 - 27s - loss: 1.1724 - accuracy: 0.5918 - val_loss: 2.7481 - val_accuracy: 0.1204 - 27s/epoch - 31ms/step\n"
          ]
        }
      ]
    },
    {
      "cell_type": "code",
      "source": [
        "#Getting the accuracy score of the model\n",
        "score = lenet_model.evaluate(X_test, y_test, batch_size=128, verbose=0)"
      ],
      "metadata": {
        "id": "1N5b-xZoOeS8"
      },
      "execution_count": 210,
      "outputs": []
    },
    {
      "cell_type": "code",
      "source": [
        "#Printing the accuracy score\n",
        "print(lenet_model.metrics_names)\n",
        "print(score)"
      ],
      "metadata": {
        "colab": {
          "base_uri": "https://localhost:8080/"
        },
        "id": "2dsRTb6QOgFk",
        "outputId": "190ad7e6-347f-41ea-ca8d-04acda794d8c"
      },
      "execution_count": 211,
      "outputs": [
        {
          "output_type": "stream",
          "name": "stdout",
          "text": [
            "['loss', 'accuracy']\n",
            "[2.7565503120422363, 0.12066666781902313]\n"
          ]
        }
      ]
    },
    {
      "cell_type": "code",
      "source": [
        "#Plotting training and validation loss\n",
        "plot_history(history, yrange=(0.9,1))"
      ],
      "metadata": {
        "colab": {
          "base_uri": "https://localhost:8080/",
          "height": 281
        },
        "id": "Ki9ZMEt60uOJ",
        "outputId": "7e15f8a3-2275-4f72-89a1-7dafb193fdd3"
      },
      "execution_count": 212,
      "outputs": [
        {
          "output_type": "display_data",
          "data": {
            "image/png": "[encoded data removed]",
            "text/plain": [
              "<Figure size 432x288 with 1 Axes>"
            ]
          },
          "metadata": {
            "needs_background": "light"
          }
        }
      ]
    },
    {
      "cell_type": "markdown",
      "source": [
        "### **Attempting to model with a Yann LeCun Architecture**\n",
        "In the second CNN model, I will create a CNN with three convolutional layers and two fully connected layers, based on Yann LeCun's CNN architecture. However, I will use Adam as my optimizer, and include dropout and batch normalization."
      ],
      "metadata": {
        "id": "OZmhOu3rRwGk"
      }
    },
    {
      "cell_type": "code",
      "source": [
        "lecun_model = keras.Sequential()\n",
        "#Convolutional layer #1\n",
        "lecun_model.add(layers.Conv2D(filters=32, kernel_size=(3, 3), activation='relu', input_shape=(32,32,3)))\n",
        "#Pooling layer\n",
        "lecun_model.add(layers.MaxPooling2D(pool_size=(2, 2)))\n",
        "#Batch normalization\n",
        "lecun_model.add(BatchNormalization())\n",
        "\n",
        "#Convolutional layer #2\n",
        "lecun_model.add(layers.Conv2D(filters=64, activation='relu', kernel_size=(3, 3)))\n",
        "#Pooling layer\n",
        "lecun_model.add(layers.MaxPooling2D(pool_size=(2, 2)))\n",
        "#Dropout layer\n",
        "lecun_model.add(layers.Dropout(0.2))\n",
        "#Batch normalization\n",
        "lecun_model.add(BatchNormalization())\n",
        "\n",
        "#Convolutional layer #3\n",
        "lecun_model.add(layers.Conv2D(filters=128, activation='relu', kernel_size=(3, 3)))\n",
        "#Pooling layer\n",
        "lecun_model.add(layers.MaxPooling2D(pool_size=(2, 2)))\n",
        "#Dropout layer\n",
        "lecun_model.add(layers.Dropout(0.25))\n",
        "#Batch normalization\n",
        "lecun_model.add(BatchNormalization())\n",
        "\n",
        "#Flattening layer\n",
        "lecun_model.add(layers.Flatten())\n",
        "\n",
        "#Fully connected layers\n",
        "lecun_model.add(layers.Dense(units=256, activation='relu'))\n",
        "lecun_model.add(layers.Dense(units=120, activation='relu'))\n",
        "\n",
        "#Adding in batch normalization\n",
        "lenet_model.add(BatchNormalization())\n",
        "\n",
        "#Adding dropout\n",
        "lenet_model.add(layers.Dropout(0.50))\n",
        "\n",
        "#Classification layer\n",
        "lecun_model.add(layers.Dense(units=10, activation = 'softmax'))\n",
        "\n",
        "adam = Adam(learning_rate=0.001,\n",
        "    beta_1=0.9,\n",
        "    beta_2=0.999,\n",
        "    epsilon=1e-07,\n",
        "    amsgrad=False)\n",
        "lecun_model.compile(loss='categorical_crossentropy', metrics=['accuracy'], optimizer=adam)"
      ],
      "metadata": {
        "id": "ZH5cUx3lSauk"
      },
      "execution_count": 223,
      "outputs": []
    },
    {
      "cell_type": "code",
      "source": [
        "lecun_model.summary()"
      ],
      "metadata": {
        "colab": {
          "base_uri": "https://localhost:8080/"
        },
        "id": "zqDeNvOcV_t6",
        "outputId": "0f3da945-db8f-4307-a52d-291011ba34cc"
      },
      "execution_count": 234,
      "outputs": [
        {
          "output_type": "stream",
          "name": "stdout",
          "text": [
            "Model: \"sequential_34\"\n",
            "_________________________________________________________________\n",
            " Layer (type)                Output Shape              Param #   \n",
            "=================================================================\n",
            " conv2d_66 (Conv2D)          (None, 30, 30, 32)        896       \n",
            "                                                                 \n",
            " max_pooling2d_18 (MaxPoolin  (None, 15, 15, 32)       0         \n",
            " g2D)                                                            \n",
            "                                                                 \n",
            " batch_normalization_98 (Bat  (None, 15, 15, 32)       128       \n",
            " chNormalization)                                                \n",
            "                                                                 \n",
            " conv2d_67 (Conv2D)          (None, 13, 13, 64)        18496     \n",
            "                                                                 \n",
            " max_pooling2d_19 (MaxPoolin  (None, 6, 6, 64)         0         \n",
            " g2D)                                                            \n",
            "                                                                 \n",
            " dropout_57 (Dropout)        (None, 6, 6, 64)          0         \n",
            "                                                                 \n",
            " batch_normalization_99 (Bat  (None, 6, 6, 64)         256       \n",
            " chNormalization)                                                \n",
            "                                                                 \n",
            " conv2d_68 (Conv2D)          (None, 4, 4, 128)         73856     \n",
            "                                                                 \n",
            " max_pooling2d_20 (MaxPoolin  (None, 2, 2, 128)        0         \n",
            " g2D)                                                            \n",
            "                                                                 \n",
            " dropout_58 (Dropout)        (None, 2, 2, 128)         0         \n",
            "                                                                 \n",
            " batch_normalization_100 (Ba  (None, 2, 2, 128)        512       \n",
            " tchNormalization)                                               \n",
            "                                                                 \n",
            " flatten_32 (Flatten)        (None, 512)               0         \n",
            "                                                                 \n",
            " dense_99 (Dense)            (None, 256)               131328    \n",
            "                                                                 \n",
            " dense_100 (Dense)           (None, 120)               30840     \n",
            "                                                                 \n",
            " dense_101 (Dense)           (None, 10)                1210      \n",
            "                                                                 \n",
            "=================================================================\n",
            "Total params: 257,522\n",
            "Trainable params: 257,074\n",
            "Non-trainable params: 448\n",
            "_________________________________________________________________\n"
          ]
        }
      ]
    },
    {
      "cell_type": "code",
      "source": [
        "#Training the CNN\n",
        "history = lecun_model.fit(X_train, y_train, batch_size=32, epochs=30, verbose=2, validation_split=0.2)"
      ],
      "metadata": {
        "colab": {
          "base_uri": "https://localhost:8080/"
        },
        "id": "j9fRBYqEVstQ",
        "outputId": "64543fe8-6c94-4db0-8789-9a2d19817f75"
      },
      "execution_count": 224,
      "outputs": [
        {
          "output_type": "stream",
          "name": "stdout",
          "text": [
            "Epoch 1/30\n",
            "875/875 - 6s - loss: 1.5384 - accuracy: 0.4393 - val_loss: 1.3995 - val_accuracy: 0.5024 - 6s/epoch - 7ms/step\n",
            "Epoch 2/30\n",
            "875/875 - 5s - loss: 1.2212 - accuracy: 0.5673 - val_loss: 1.2904 - val_accuracy: 0.5547 - 5s/epoch - 6ms/step\n",
            "Epoch 3/30\n",
            "875/875 - 5s - loss: 1.0839 - accuracy: 0.6174 - val_loss: 1.3766 - val_accuracy: 0.5204 - 5s/epoch - 5ms/step\n",
            "Epoch 4/30\n",
            "875/875 - 5s - loss: 0.9836 - accuracy: 0.6549 - val_loss: 1.2119 - val_accuracy: 0.5791 - 5s/epoch - 6ms/step\n",
            "Epoch 5/30\n",
            "875/875 - 5s - loss: 0.9013 - accuracy: 0.6832 - val_loss: 1.1096 - val_accuracy: 0.6076 - 5s/epoch - 6ms/step\n",
            "Epoch 6/30\n",
            "875/875 - 6s - loss: 0.8446 - accuracy: 0.7041 - val_loss: 1.1674 - val_accuracy: 0.6116 - 6s/epoch - 7ms/step\n",
            "Epoch 7/30\n",
            "875/875 - 5s - loss: 0.7904 - accuracy: 0.7215 - val_loss: 0.8740 - val_accuracy: 0.6956 - 5s/epoch - 6ms/step\n",
            "Epoch 8/30\n",
            "875/875 - 5s - loss: 0.7460 - accuracy: 0.7372 - val_loss: 1.0078 - val_accuracy: 0.6527 - 5s/epoch - 5ms/step\n",
            "Epoch 9/30\n",
            "875/875 - 5s - loss: 0.7098 - accuracy: 0.7489 - val_loss: 0.8632 - val_accuracy: 0.7039 - 5s/epoch - 6ms/step\n",
            "Epoch 10/30\n",
            "875/875 - 5s - loss: 0.6820 - accuracy: 0.7579 - val_loss: 0.8296 - val_accuracy: 0.7144 - 5s/epoch - 5ms/step\n",
            "Epoch 11/30\n",
            "875/875 - 5s - loss: 0.6494 - accuracy: 0.7707 - val_loss: 0.9694 - val_accuracy: 0.6896 - 5s/epoch - 5ms/step\n",
            "Epoch 12/30\n",
            "875/875 - 5s - loss: 0.6238 - accuracy: 0.7808 - val_loss: 0.9456 - val_accuracy: 0.6863 - 5s/epoch - 6ms/step\n",
            "Epoch 13/30\n",
            "875/875 - 5s - loss: 0.6033 - accuracy: 0.7892 - val_loss: 0.8117 - val_accuracy: 0.7284 - 5s/epoch - 6ms/step\n",
            "Epoch 14/30\n",
            "875/875 - 5s - loss: 0.5723 - accuracy: 0.7995 - val_loss: 0.9990 - val_accuracy: 0.6803 - 5s/epoch - 6ms/step\n",
            "Epoch 15/30\n",
            "875/875 - 5s - loss: 0.5546 - accuracy: 0.8024 - val_loss: 0.9067 - val_accuracy: 0.7074 - 5s/epoch - 6ms/step\n",
            "Epoch 16/30\n",
            "875/875 - 5s - loss: 0.5364 - accuracy: 0.8119 - val_loss: 0.8759 - val_accuracy: 0.7169 - 5s/epoch - 6ms/step\n",
            "Epoch 17/30\n",
            "875/875 - 5s - loss: 0.5248 - accuracy: 0.8127 - val_loss: 0.8716 - val_accuracy: 0.7213 - 5s/epoch - 5ms/step\n",
            "Epoch 18/30\n",
            "875/875 - 5s - loss: 0.5093 - accuracy: 0.8204 - val_loss: 1.1020 - val_accuracy: 0.6714 - 5s/epoch - 6ms/step\n",
            "Epoch 19/30\n",
            "875/875 - 5s - loss: 0.4980 - accuracy: 0.8248 - val_loss: 0.7875 - val_accuracy: 0.7461 - 5s/epoch - 5ms/step\n",
            "Epoch 20/30\n",
            "875/875 - 5s - loss: 0.4720 - accuracy: 0.8319 - val_loss: 0.9222 - val_accuracy: 0.7064 - 5s/epoch - 5ms/step\n",
            "Epoch 21/30\n",
            "875/875 - 5s - loss: 0.4688 - accuracy: 0.8357 - val_loss: 1.0008 - val_accuracy: 0.6781 - 5s/epoch - 5ms/step\n",
            "Epoch 22/30\n",
            "875/875 - 5s - loss: 0.4538 - accuracy: 0.8397 - val_loss: 0.8112 - val_accuracy: 0.7471 - 5s/epoch - 5ms/step\n",
            "Epoch 23/30\n",
            "875/875 - 5s - loss: 0.4393 - accuracy: 0.8418 - val_loss: 0.9405 - val_accuracy: 0.7056 - 5s/epoch - 6ms/step\n",
            "Epoch 24/30\n",
            "875/875 - 5s - loss: 0.4295 - accuracy: 0.8471 - val_loss: 0.8944 - val_accuracy: 0.7237 - 5s/epoch - 5ms/step\n",
            "Epoch 25/30\n",
            "875/875 - 5s - loss: 0.4235 - accuracy: 0.8502 - val_loss: 0.9224 - val_accuracy: 0.7084 - 5s/epoch - 6ms/step\n",
            "Epoch 26/30\n",
            "875/875 - 5s - loss: 0.4134 - accuracy: 0.8514 - val_loss: 1.0373 - val_accuracy: 0.6929 - 5s/epoch - 6ms/step\n",
            "Epoch 27/30\n",
            "875/875 - 5s - loss: 0.3997 - accuracy: 0.8585 - val_loss: 0.8832 - val_accuracy: 0.7339 - 5s/epoch - 5ms/step\n",
            "Epoch 28/30\n",
            "875/875 - 5s - loss: 0.4002 - accuracy: 0.8566 - val_loss: 0.8599 - val_accuracy: 0.7376 - 5s/epoch - 6ms/step\n",
            "Epoch 29/30\n",
            "875/875 - 5s - loss: 0.3867 - accuracy: 0.8634 - val_loss: 0.8453 - val_accuracy: 0.7356 - 5s/epoch - 5ms/step\n",
            "Epoch 30/30\n",
            "875/875 - 5s - loss: 0.3757 - accuracy: 0.8654 - val_loss: 0.8371 - val_accuracy: 0.7434 - 5s/epoch - 6ms/step\n"
          ]
        }
      ]
    },
    {
      "cell_type": "code",
      "source": [
        "#Getting the accuracy score of the model\n",
        "score = lecun_model.evaluate(X_test, y_test, batch_size=128, verbose=0)"
      ],
      "metadata": {
        "id": "x3lzvInlVwmr"
      },
      "execution_count": 225,
      "outputs": []
    },
    {
      "cell_type": "code",
      "source": [
        "#Printing the accuracy score\n",
        "print(lecun_model.metrics_names)\n",
        "print(score)"
      ],
      "metadata": {
        "colab": {
          "base_uri": "https://localhost:8080/"
        },
        "id": "7RHQafVTV0Ad",
        "outputId": "4666ea27-0fca-47a3-ceb3-a467f76fad15"
      },
      "execution_count": 226,
      "outputs": [
        {
          "output_type": "stream",
          "name": "stdout",
          "text": [
            "['loss', 'accuracy']\n",
            "[0.813473641872406, 0.7459333539009094]\n"
          ]
        }
      ]
    },
    {
      "cell_type": "code",
      "source": [
        "#Plotting training and validation loss\n",
        "plot_history(history, yrange=(0.9,1))"
      ],
      "metadata": {
        "colab": {
          "base_uri": "https://localhost:8080/",
          "height": 281
        },
        "id": "2pdlz4V_4PNZ",
        "outputId": "c5c5f85f-65ff-4dcb-9029-9baf9140cd87"
      },
      "execution_count": 227,
      "outputs": [
        {
          "output_type": "display_data",
          "data": {
            "image/png": "[encoded data removed]",
            "text/plain": [
              "<Figure size 432x288 with 1 Axes>"
            ]
          },
          "metadata": {
            "needs_background": "light"
          }
        }
      ]
    },
    {
      "cell_type": "code",
      "source": [
        "#Data augmentation by rotatingm shifting (width and height), zooming, flipping, brightening, and filling pixels\n",
        "#Creaing new validation and traning data with this to train the model on\n",
        "# construct the training image generator for data augmentation\n",
        "aug = ImageDataGenerator(rotation_range=20, \n",
        "                         zoom_range=0.15,\n",
        "                         width_shift_range=0.2, \n",
        "                         height_shift_range=0.2, \n",
        "                         shear_range=0.15,\n",
        "                         horizontal_flip=True, \n",
        "                         fill_mode=\"nearest\")\n",
        "# train the network\n",
        "history = lecun_model.fit_generator(aug.flow(X_test, y_test, batch_size=15),\n",
        "\tvalidation_data=(testX, testY), steps_per_epoch=len(trainX) // BS,\n",
        "\tepochs=15)"
      ],
      "metadata": {
        "id": "EYLkrx0uPpde"
      },
      "execution_count": 229,
      "outputs": []
    },
    {
      "cell_type": "code",
      "source": [
        "#Fitting the model on the augmented data\n",
        "history = lecun_model.fit_generator(training_generator,    \n",
        "                    validation_data=val_generator,\n",
        "                    validation_steps=len(X_train[28000:]) / 32,\n",
        "                    steps_per_epoch=len(X_train[:28000]) / 32,\n",
        "                    epochs=15,\n",
        "                    verbose=2)"
      ],
      "metadata": {
        "colab": {
          "base_uri": "https://localhost:8080/"
        },
        "id": "2bDfqXI_PtqV",
        "outputId": "4ae966c9-cc14-4196-cc46-b1c1256b611d"
      },
      "execution_count": 230,
      "outputs": [
        {
          "output_type": "stream",
          "name": "stderr",
          "text": [
            "/usr/local/lib/python3.7/dist-packages/ipykernel_launcher.py:7: UserWarning: `Model.fit_generator` is deprecated and will be removed in a future version. Please use `Model.fit`, which supports generators.\n",
            "  import sys\n"
          ]
        },
        {
          "output_type": "stream",
          "name": "stdout",
          "text": [
            "Epoch 1/15\n",
            "875/875 - 19s - loss: 1.4930 - accuracy: 0.4730 - val_loss: 1.0585 - val_accuracy: 0.6460 - 19s/epoch - 22ms/step\n",
            "Epoch 2/15\n",
            "875/875 - 18s - loss: 1.3540 - accuracy: 0.5173 - val_loss: 0.9600 - val_accuracy: 0.6714 - 18s/epoch - 21ms/step\n",
            "Epoch 3/15\n",
            "875/875 - 21s - loss: 1.3081 - accuracy: 0.5339 - val_loss: 1.0337 - val_accuracy: 0.6439 - 21s/epoch - 24ms/step\n",
            "Epoch 4/15\n",
            "875/875 - 18s - loss: 1.2770 - accuracy: 0.5490 - val_loss: 1.0879 - val_accuracy: 0.6237 - 18s/epoch - 21ms/step\n",
            "Epoch 5/15\n",
            "875/875 - 18s - loss: 1.2447 - accuracy: 0.5592 - val_loss: 0.9813 - val_accuracy: 0.6563 - 18s/epoch - 21ms/step\n",
            "Epoch 6/15\n",
            "875/875 - 18s - loss: 1.2273 - accuracy: 0.5644 - val_loss: 1.1765 - val_accuracy: 0.5941 - 18s/epoch - 21ms/step\n",
            "Epoch 7/15\n",
            "875/875 - 19s - loss: 1.2155 - accuracy: 0.5707 - val_loss: 0.9433 - val_accuracy: 0.6796 - 19s/epoch - 21ms/step\n",
            "Epoch 8/15\n",
            "875/875 - 18s - loss: 1.1847 - accuracy: 0.5823 - val_loss: 0.9955 - val_accuracy: 0.6567 - 18s/epoch - 21ms/step\n",
            "Epoch 9/15\n",
            "875/875 - 18s - loss: 1.1777 - accuracy: 0.5837 - val_loss: 0.9927 - val_accuracy: 0.6594 - 18s/epoch - 21ms/step\n",
            "Epoch 10/15\n",
            "875/875 - 18s - loss: 1.1686 - accuracy: 0.5882 - val_loss: 1.1134 - val_accuracy: 0.6221 - 18s/epoch - 21ms/step\n",
            "Epoch 11/15\n",
            "875/875 - 18s - loss: 1.1513 - accuracy: 0.5925 - val_loss: 0.8996 - val_accuracy: 0.6827 - 18s/epoch - 21ms/step\n",
            "Epoch 12/15\n",
            "875/875 - 18s - loss: 1.1425 - accuracy: 0.5948 - val_loss: 0.9213 - val_accuracy: 0.6821 - 18s/epoch - 21ms/step\n",
            "Epoch 13/15\n",
            "875/875 - 18s - loss: 1.1288 - accuracy: 0.6021 - val_loss: 0.9718 - val_accuracy: 0.6640 - 18s/epoch - 21ms/step\n",
            "Epoch 14/15\n",
            "875/875 - 18s - loss: 1.1280 - accuracy: 0.6031 - val_loss: 1.2092 - val_accuracy: 0.5949 - 18s/epoch - 21ms/step\n",
            "Epoch 15/15\n",
            "875/875 - 18s - loss: 1.1177 - accuracy: 0.6073 - val_loss: 1.1344 - val_accuracy: 0.6197 - 18s/epoch - 21ms/step\n"
          ]
        }
      ]
    },
    {
      "cell_type": "code",
      "source": [
        "#Getting the accuracy score of the model\n",
        "score = lecun_model.evaluate(X_test, y_test, batch_size=128, verbose=0)"
      ],
      "metadata": {
        "id": "RfJbDcsbP-Ci"
      },
      "execution_count": 231,
      "outputs": []
    },
    {
      "cell_type": "code",
      "source": [
        "#Printing the accuracy score\n",
        "print(lecun_model.metrics_names)\n",
        "print(score)"
      ],
      "metadata": {
        "colab": {
          "base_uri": "https://localhost:8080/"
        },
        "id": "QMKm-PVzQAsm",
        "outputId": "2d3fbc57-8db1-4a82-9091-8b8eefade08f"
      },
      "execution_count": 232,
      "outputs": [
        {
          "output_type": "stream",
          "name": "stdout",
          "text": [
            "['loss', 'accuracy']\n",
            "[1.1240248680114746, 0.6136000156402588]\n"
          ]
        }
      ]
    },
    {
      "cell_type": "code",
      "source": [
        "#Plotting training and validation loss\n",
        "plot_history(history, yrange=(0.9,1))"
      ],
      "metadata": {
        "colab": {
          "base_uri": "https://localhost:8080/",
          "height": 281
        },
        "id": "eXpheSE-QC3B",
        "outputId": "a90d2768-8d17-49b7-ed99-2a7a47e83b24"
      },
      "execution_count": 233,
      "outputs": [
        {
          "output_type": "display_data",
          "data": {
            "image/png": "[encoded data removed]",
            "text/plain": [
              "<Figure size 432x288 with 1 Axes>"
            ]
          },
          "metadata": {
            "needs_background": "light"
          }
        }
      ]
    },
    {
      "cell_type": "markdown",
      "source": [
        "### **Transfer Learning: Attempting to model using pre-trained weights from ImageNet and Freezing Layers**\n",
        "In this third attempt, I will be using a ResNet50 architecture, pre-trained with ImageNet (i.e. using pre-trained weights), as suggested by Professor Martell, in order to get better classification results than just those we get from training on this dataset. I will attempt to do this in two different ways (as suggested by [TensorFlow: Transfer Learning and Fine-Tuning](https://www.tensorflow.org/tutorials/images/transfer_learning))\n",
        "\n",
        "1.   **Feature Extraction:** Adding a new classifier on top of the pretrained ResNet101 model (trained with imagenet) so that we can reuse the already learned feature maps. \n",
        "2.   **Fine Tuning:** Freeze the pretrained ResNet101 model (trained with imagenet), then unfreeze a few of the last layers of this model. Then, add classifier layers specific to the CIFAR-10 dataset, which will essentially \"fine tune\" features specific to our original dataset (CIFAR-10).\n",
        "\n"
      ],
      "metadata": {
        "id": "-ufLSRxWY78_"
      }
    },
    {
      "cell_type": "code",
      "source": [
        "pip install keras_applications"
      ],
      "metadata": {
        "colab": {
          "base_uri": "https://localhost:8080/"
        },
        "id": "zQs1hZR0f4DY",
        "outputId": "efc949b7-cdce-489d-e95e-a0a390a95899"
      },
      "execution_count": 235,
      "outputs": [
        {
          "output_type": "stream",
          "name": "stdout",
          "text": [
            "Requirement already satisfied: keras_applications in /usr/local/lib/python3.7/dist-packages (1.0.8)\n",
            "Requirement already satisfied: numpy>=1.9.1 in /usr/local/lib/python3.7/dist-packages (from keras_applications) (1.19.5)\n",
            "Requirement already satisfied: h5py in /usr/local/lib/python3.7/dist-packages (from keras_applications) (3.1.0)\n",
            "Requirement already satisfied: cached-property in /usr/local/lib/python3.7/dist-packages (from h5py->keras_applications) (1.5.2)\n"
          ]
        }
      ]
    },
    {
      "cell_type": "code",
      "source": [
        "(X_train_full, y_train_full), (X_test_full, y_test_full) = cifar10.load_data()"
      ],
      "metadata": {
        "id": "I_BI95ylnU_H"
      },
      "execution_count": 349,
      "outputs": []
    },
    {
      "cell_type": "code",
      "source": [
        "#Prep-processing to change the shape of input\n",
        "\n",
        "#Tranforming categorical data to encoded (numerical) values\n",
        "y_train_full = to_categorical(y_train_full, num_classes=10)\n",
        "y_test_full = to_categorical(y_test_full, num_classes=10)\n",
        "\n",
        "#Transform images from (32,32,3) to 3072-dimensional vectors (32*32*3)\n",
        "X_train_full = X_train_full.astype('float32')\n",
        "X_test_full = X_test_full.astype('float32')"
      ],
      "metadata": {
        "id": "KrkeNQWMnY8Y"
      },
      "execution_count": 350,
      "outputs": []
    },
    {
      "cell_type": "code",
      "source": [
        "#Now we have to split the train data into train and test split\n",
        "from sklearn.model_selection import train_test_split\n",
        "X_train, X_test, y_train, y_test = train_test_split(X_train_full, y_train_full, test_size=0.3, random_state=42)"
      ],
      "metadata": {
        "id": "-D96Ka4SnbcY"
      },
      "execution_count": 351,
      "outputs": []
    },
    {
      "cell_type": "code",
      "source": [
        "#Using the built in keras resnet50 preprocessing function\n",
        "input = keras.Input(shape=(32, 32, 3))\n",
        "preprocess_input = keras.applications.resnet50.preprocess_input"
      ],
      "metadata": {
        "id": "6I3oedPvnd9d"
      },
      "execution_count": 352,
      "outputs": []
    },
    {
      "cell_type": "code",
      "source": [
        "#Data augmentation by transforming images\n",
        "data_augmentation = tf.keras.Sequential([\n",
        "  layers.RandomFlip('horizontal'),\n",
        "  layers.RandomFlip('vertical'),\n",
        "  layers.RandomRotation(0.2)\n",
        "])"
      ],
      "metadata": {
        "id": "AJlNbf3Tnftx"
      },
      "execution_count": 353,
      "outputs": []
    },
    {
      "cell_type": "code",
      "source": [
        "#Creating the base model of this CNN; this is the ResNet101 model wiith pretrained weights from the imagenet dataset\n",
        "base_model = keras.applications.ResNet50(include_top=False, weights=\"imagenet\", input_shape=(32, 32, 3))"
      ],
      "metadata": {
        "id": "qZVOImEtmZgM"
      },
      "execution_count": 354,
      "outputs": []
    },
    {
      "cell_type": "markdown",
      "source": [
        "**Freezing the convolutional base**: Below, we are freezing the convolutional base of our model.\n"
      ],
      "metadata": {
        "id": "EGiNi5cDnbQy"
      }
    },
    {
      "cell_type": "code",
      "source": [
        "#Freezing all layers for feature extraction\n",
        "for layer in base_model.layers:\n",
        "  layer.trainable = False"
      ],
      "metadata": {
        "id": "Vubw5hE3cuWh"
      },
      "execution_count": 355,
      "outputs": []
    },
    {
      "cell_type": "markdown",
      "source": [
        "From the above, we can see that the ResNet101 architecture converts a `32, 32, 3` image into a `1, 1, 2048` block of features. At this point, we will add a few dense layers."
      ],
      "metadata": {
        "id": "q1rk7CCuzSKB"
      }
    },
    {
      "cell_type": "code",
      "source": [
        "#Augmenting the data\n",
        "#data_augmentation(input)\n",
        "#Preprocessing\n",
        "x = keras.applications.resnet50.preprocess_input(input)\n",
        "#Applying the base model\n",
        "x = base_model(x)\n",
        "#Pooling layer\n",
        "x = layers.GlobalAveragePooling2D()(x)\n",
        "#Flattening layer\n",
        "x = layers.Flatten()(x)\n",
        "#Batch normalization\n",
        "x = BatchNormalization()(x)\n",
        "#Fully connected layers with dropout and batch normalization\n",
        "x = layers.Dense(256, activation='relu')(x)\n",
        "x = layers.Dropout(0.2)(x)\n",
        "x = BatchNormalization()(x)\n",
        "x = layers.Dense(128, activation='relu')(x)\n",
        "x = layers.Dropout(0.25)(x)\n",
        "x = BatchNormalization()(x)\n",
        "x = layers.Dense(64, activation='relu')(x)\n",
        "x = layers.Dropout(0.5)(x)\n",
        "x = BatchNormalization()(x)\n",
        "#Classification layer\n",
        "predictions = layers.Dense(10, activation = 'softmax')(x)\n",
        "full_model = keras.Model(inputs=input, outputs=predictions)"
      ],
      "metadata": {
        "id": "0GGJ8cpM14L8"
      },
      "execution_count": 356,
      "outputs": []
    },
    {
      "cell_type": "code",
      "source": [
        "adam = Adam(learning_rate=0.001,\n",
        "    beta_1=0.9,\n",
        "    beta_2=0.999,\n",
        "    epsilon=1e-07,\n",
        "    amsgrad=False)\n",
        "sgd = keras.optimizers.SGD(learning_rate=0.2, momentum=0.9, decay=0.01)\n",
        "full_model.compile(loss='categorical_crossentropy', metrics=['accuracy'], optimizer=adam)"
      ],
      "metadata": {
        "id": "YnrzLxgL2u4z"
      },
      "execution_count": 357,
      "outputs": []
    },
    {
      "cell_type": "code",
      "source": [
        "#Training the CNN\n",
        "history = full_model.fit(X_train, y_train, batch_size=64, epochs=15, verbose=2, validation_split=0.2)"
      ],
      "metadata": {
        "colab": {
          "base_uri": "https://localhost:8080/"
        },
        "id": "45TBlk9Cod8O",
        "outputId": "5cef709e-19de-4110-d8c3-f365f256de78"
      },
      "execution_count": 358,
      "outputs": [
        {
          "output_type": "stream",
          "name": "stdout",
          "text": [
            "Epoch 1/15\n",
            "438/438 - 22s - loss: 1.6066 - accuracy: 0.4533 - val_loss: 1.1018 - val_accuracy: 0.6209 - 22s/epoch - 49ms/step\n",
            "Epoch 2/15\n",
            "438/438 - 9s - loss: 1.2253 - accuracy: 0.5864 - val_loss: 1.0390 - val_accuracy: 0.6440 - 9s/epoch - 22ms/step\n",
            "Epoch 3/15\n",
            "438/438 - 9s - loss: 1.1223 - accuracy: 0.6226 - val_loss: 1.0149 - val_accuracy: 0.6477 - 9s/epoch - 21ms/step\n",
            "Epoch 4/15\n",
            "438/438 - 10s - loss: 1.0499 - accuracy: 0.6528 - val_loss: 1.0143 - val_accuracy: 0.6491 - 10s/epoch - 22ms/step\n",
            "Epoch 5/15\n",
            "438/438 - 10s - loss: 0.9844 - accuracy: 0.6724 - val_loss: 1.0013 - val_accuracy: 0.6540 - 10s/epoch - 23ms/step\n",
            "Epoch 6/15\n",
            "438/438 - 9s - loss: 0.9368 - accuracy: 0.6902 - val_loss: 1.0150 - val_accuracy: 0.6504 - 9s/epoch - 21ms/step\n",
            "Epoch 7/15\n",
            "438/438 - 10s - loss: 0.8803 - accuracy: 0.7060 - val_loss: 1.0203 - val_accuracy: 0.6550 - 10s/epoch - 23ms/step\n",
            "Epoch 8/15\n",
            "438/438 - 9s - loss: 0.8318 - accuracy: 0.7259 - val_loss: 1.0494 - val_accuracy: 0.6489 - 9s/epoch - 21ms/step\n",
            "Epoch 9/15\n",
            "438/438 - 9s - loss: 0.7837 - accuracy: 0.7452 - val_loss: 1.0627 - val_accuracy: 0.6459 - 9s/epoch - 21ms/step\n",
            "Epoch 10/15\n",
            "438/438 - 11s - loss: 0.7366 - accuracy: 0.7558 - val_loss: 1.0741 - val_accuracy: 0.6491 - 11s/epoch - 24ms/step\n",
            "Epoch 11/15\n",
            "438/438 - 10s - loss: 0.7022 - accuracy: 0.7712 - val_loss: 1.0940 - val_accuracy: 0.6520 - 10s/epoch - 23ms/step\n",
            "Epoch 12/15\n",
            "438/438 - 9s - loss: 0.6590 - accuracy: 0.7844 - val_loss: 1.1166 - val_accuracy: 0.6470 - 9s/epoch - 21ms/step\n",
            "Epoch 13/15\n",
            "438/438 - 9s - loss: 0.6259 - accuracy: 0.7961 - val_loss: 1.1411 - val_accuracy: 0.6430 - 9s/epoch - 22ms/step\n",
            "Epoch 14/15\n",
            "438/438 - 9s - loss: 0.5901 - accuracy: 0.8087 - val_loss: 1.1604 - val_accuracy: 0.6429 - 9s/epoch - 21ms/step\n",
            "Epoch 15/15\n",
            "438/438 - 10s - loss: 0.5543 - accuracy: 0.8199 - val_loss: 1.2136 - val_accuracy: 0.6387 - 10s/epoch - 23ms/step\n"
          ]
        }
      ]
    },
    {
      "cell_type": "code",
      "source": [
        "score = full_model.evaluate(X_test, y_test, batch_size=128, verbose=0)"
      ],
      "metadata": {
        "id": "1vcAeaKjohiQ"
      },
      "execution_count": 359,
      "outputs": []
    },
    {
      "cell_type": "code",
      "source": [
        "print(full_model.metrics_names)\n",
        "print(score)"
      ],
      "metadata": {
        "colab": {
          "base_uri": "https://localhost:8080/"
        },
        "id": "sIN3rEESojV4",
        "outputId": "eb823772-c6d8-4829-f6ec-02073b81a865"
      },
      "execution_count": 360,
      "outputs": [
        {
          "output_type": "stream",
          "name": "stdout",
          "text": [
            "['loss', 'accuracy']\n",
            "[1.1494468450546265, 0.6593999862670898]\n"
          ]
        }
      ]
    },
    {
      "cell_type": "code",
      "source": [
        "#Now we will begin fine tuning, by unfreezing the layers and re-training \n",
        "for layer in base_model.layers:\n",
        "  layer.trainable = True"
      ],
      "metadata": {
        "id": "HNuANJvZplvg"
      },
      "execution_count": 361,
      "outputs": []
    },
    {
      "cell_type": "code",
      "source": [
        "adam = Adam(learning_rate=0.001,\n",
        "    beta_1=0.9,\n",
        "    beta_2=0.999,\n",
        "    epsilon=1e-07,\n",
        "    amsgrad=False)\n",
        "sgd = keras.optimizers.SGD(learning_rate=0.01, momentum=0.9, decay=0.01)\n",
        "full_model.compile(loss='categorical_crossentropy', metrics=['accuracy'], optimizer=adam)"
      ],
      "metadata": {
        "id": "7JnOQx6Kp3aE"
      },
      "execution_count": 362,
      "outputs": []
    },
    {
      "cell_type": "markdown",
      "source": [
        "Based on testing these models, I have decided to use this transfer learning ResNet50 model for my final evaluation. Because of this, I will fit it with 100 epochs and then evaluate with the test sets we set aside in the beginning."
      ],
      "metadata": {
        "id": "5aKfsATn1oaa"
      }
    },
    {
      "cell_type": "code",
      "source": [
        "#Training the CNN\n",
        "resnet_history = full_model.fit(X_train, y_train, batch_size=64, epochs=150, verbose=2, validation_split=0.2)"
      ],
      "metadata": {
        "colab": {
          "base_uri": "https://localhost:8080/"
        },
        "id": "F2737ZAOp6DX",
        "outputId": "523d7633-9df7-47e7-d4cf-a1a35181972a"
      },
      "execution_count": 363,
      "outputs": [
        {
          "output_type": "stream",
          "name": "stdout",
          "text": [
            "Epoch 1/150\n",
            "438/438 - 32s - loss: 1.5122 - accuracy: 0.5309 - val_loss: 1.1292 - val_accuracy: 0.6219 - 32s/epoch - 73ms/step\n",
            "Epoch 2/150\n",
            "438/438 - 21s - loss: 0.9722 - accuracy: 0.6924 - val_loss: 0.9601 - val_accuracy: 0.6786 - 21s/epoch - 48ms/step\n",
            "Epoch 3/150\n",
            "438/438 - 21s - loss: 0.8282 - accuracy: 0.7458 - val_loss: 1.0311 - val_accuracy: 0.6764 - 21s/epoch - 48ms/step\n",
            "Epoch 4/150\n",
            "438/438 - 21s - loss: 0.7386 - accuracy: 0.7715 - val_loss: 1.0385 - val_accuracy: 0.6821 - 21s/epoch - 48ms/step\n",
            "Epoch 5/150\n",
            "438/438 - 21s - loss: 0.6741 - accuracy: 0.7914 - val_loss: 0.9525 - val_accuracy: 0.7027 - 21s/epoch - 48ms/step\n",
            "Epoch 6/150\n",
            "438/438 - 21s - loss: 0.6428 - accuracy: 0.8061 - val_loss: 1.1254 - val_accuracy: 0.6660 - 21s/epoch - 48ms/step\n",
            "Epoch 7/150\n",
            "438/438 - 21s - loss: 0.5727 - accuracy: 0.8282 - val_loss: 1.0124 - val_accuracy: 0.7016 - 21s/epoch - 48ms/step\n",
            "Epoch 8/150\n",
            "438/438 - 22s - loss: 0.5399 - accuracy: 0.8383 - val_loss: 0.8395 - val_accuracy: 0.7380 - 22s/epoch - 50ms/step\n",
            "Epoch 9/150\n",
            "438/438 - 22s - loss: 0.4870 - accuracy: 0.8549 - val_loss: 1.0676 - val_accuracy: 0.6941 - 22s/epoch - 50ms/step\n",
            "Epoch 10/150\n",
            "438/438 - 21s - loss: 0.4800 - accuracy: 0.8577 - val_loss: 0.9009 - val_accuracy: 0.7333 - 21s/epoch - 48ms/step\n",
            "Epoch 11/150\n",
            "438/438 - 22s - loss: 0.4783 - accuracy: 0.8566 - val_loss: 0.7685 - val_accuracy: 0.7611 - 22s/epoch - 50ms/step\n",
            "Epoch 12/150\n",
            "438/438 - 21s - loss: 0.3917 - accuracy: 0.8854 - val_loss: 0.8624 - val_accuracy: 0.7519 - 21s/epoch - 48ms/step\n",
            "Epoch 13/150\n",
            "438/438 - 22s - loss: 0.3852 - accuracy: 0.8896 - val_loss: 1.0158 - val_accuracy: 0.7217 - 22s/epoch - 50ms/step\n",
            "Epoch 14/150\n",
            "438/438 - 21s - loss: 0.3386 - accuracy: 0.9009 - val_loss: 0.9988 - val_accuracy: 0.7247 - 21s/epoch - 48ms/step\n",
            "Epoch 15/150\n",
            "438/438 - 21s - loss: 0.3282 - accuracy: 0.9080 - val_loss: 1.0063 - val_accuracy: 0.7277 - 21s/epoch - 48ms/step\n",
            "Epoch 16/150\n",
            "438/438 - 22s - loss: 0.3149 - accuracy: 0.9115 - val_loss: 0.9942 - val_accuracy: 0.7411 - 22s/epoch - 50ms/step\n",
            "Epoch 17/150\n",
            "438/438 - 22s - loss: 0.2683 - accuracy: 0.9242 - val_loss: 0.9123 - val_accuracy: 0.7520 - 22s/epoch - 50ms/step\n",
            "Epoch 18/150\n",
            "438/438 - 21s - loss: 0.2589 - accuracy: 0.9265 - val_loss: 1.0033 - val_accuracy: 0.7473 - 21s/epoch - 48ms/step\n",
            "Epoch 19/150\n",
            "438/438 - 21s - loss: 0.2346 - accuracy: 0.9348 - val_loss: 1.0110 - val_accuracy: 0.7491 - 21s/epoch - 48ms/step\n",
            "Epoch 20/150\n",
            "438/438 - 22s - loss: 0.2233 - accuracy: 0.9385 - val_loss: 1.0071 - val_accuracy: 0.7584 - 22s/epoch - 50ms/step\n",
            "Epoch 21/150\n",
            "438/438 - 22s - loss: 0.2031 - accuracy: 0.9431 - val_loss: 1.0558 - val_accuracy: 0.7541 - 22s/epoch - 50ms/step\n",
            "Epoch 22/150\n",
            "438/438 - 21s - loss: 0.2153 - accuracy: 0.9413 - val_loss: 1.0798 - val_accuracy: 0.7513 - 21s/epoch - 48ms/step\n",
            "Epoch 23/150\n",
            "438/438 - 22s - loss: 0.1697 - accuracy: 0.9534 - val_loss: 1.1204 - val_accuracy: 0.7499 - 22s/epoch - 50ms/step\n",
            "Epoch 24/150\n",
            "438/438 - 21s - loss: 0.1605 - accuracy: 0.9535 - val_loss: 1.0344 - val_accuracy: 0.7619 - 21s/epoch - 48ms/step\n",
            "Epoch 25/150\n",
            "438/438 - 21s - loss: 0.1707 - accuracy: 0.9526 - val_loss: 1.0192 - val_accuracy: 0.7579 - 21s/epoch - 48ms/step\n",
            "Epoch 26/150\n",
            "438/438 - 21s - loss: 0.1421 - accuracy: 0.9628 - val_loss: 1.0531 - val_accuracy: 0.7594 - 21s/epoch - 48ms/step\n",
            "Epoch 27/150\n",
            "438/438 - 22s - loss: 0.1282 - accuracy: 0.9638 - val_loss: 1.0650 - val_accuracy: 0.7621 - 22s/epoch - 50ms/step\n",
            "Epoch 28/150\n",
            "438/438 - 21s - loss: 0.1542 - accuracy: 0.9572 - val_loss: 1.0308 - val_accuracy: 0.7611 - 21s/epoch - 48ms/step\n",
            "Epoch 29/150\n",
            "438/438 - 21s - loss: 0.1493 - accuracy: 0.9601 - val_loss: 1.0531 - val_accuracy: 0.7666 - 21s/epoch - 48ms/step\n",
            "Epoch 30/150\n",
            "438/438 - 22s - loss: 0.1210 - accuracy: 0.9684 - val_loss: 1.1832 - val_accuracy: 0.7546 - 22s/epoch - 50ms/step\n",
            "Epoch 31/150\n",
            "438/438 - 21s - loss: 0.1190 - accuracy: 0.9697 - val_loss: 1.0604 - val_accuracy: 0.7741 - 21s/epoch - 48ms/step\n",
            "Epoch 32/150\n",
            "438/438 - 21s - loss: 0.1079 - accuracy: 0.9713 - val_loss: 1.2369 - val_accuracy: 0.7469 - 21s/epoch - 48ms/step\n",
            "Epoch 33/150\n",
            "438/438 - 21s - loss: 0.1173 - accuracy: 0.9693 - val_loss: 1.1580 - val_accuracy: 0.7641 - 21s/epoch - 48ms/step\n",
            "Epoch 34/150\n",
            "438/438 - 21s - loss: 0.1191 - accuracy: 0.9680 - val_loss: 1.2257 - val_accuracy: 0.7530 - 21s/epoch - 48ms/step\n",
            "Epoch 35/150\n",
            "438/438 - 21s - loss: 0.1050 - accuracy: 0.9722 - val_loss: 1.2522 - val_accuracy: 0.7511 - 21s/epoch - 48ms/step\n",
            "Epoch 36/150\n",
            "438/438 - 22s - loss: 0.1056 - accuracy: 0.9725 - val_loss: 1.2284 - val_accuracy: 0.7459 - 22s/epoch - 50ms/step\n",
            "Epoch 37/150\n",
            "438/438 - 22s - loss: 0.1026 - accuracy: 0.9731 - val_loss: 1.1607 - val_accuracy: 0.7717 - 22s/epoch - 50ms/step\n",
            "Epoch 38/150\n",
            "438/438 - 21s - loss: 0.0916 - accuracy: 0.9762 - val_loss: 1.4484 - val_accuracy: 0.7246 - 21s/epoch - 48ms/step\n",
            "Epoch 39/150\n",
            "438/438 - 21s - loss: 0.0870 - accuracy: 0.9774 - val_loss: 1.2922 - val_accuracy: 0.7534 - 21s/epoch - 49ms/step\n",
            "Epoch 40/150\n",
            "438/438 - 22s - loss: 0.0835 - accuracy: 0.9776 - val_loss: 1.3175 - val_accuracy: 0.7367 - 22s/epoch - 50ms/step\n",
            "Epoch 41/150\n",
            "438/438 - 22s - loss: 0.0946 - accuracy: 0.9757 - val_loss: 1.1735 - val_accuracy: 0.7669 - 22s/epoch - 50ms/step\n",
            "Epoch 42/150\n",
            "438/438 - 22s - loss: 0.0764 - accuracy: 0.9804 - val_loss: 1.2427 - val_accuracy: 0.7621 - 22s/epoch - 50ms/step\n",
            "Epoch 43/150\n",
            "438/438 - 22s - loss: 0.0783 - accuracy: 0.9794 - val_loss: 1.2858 - val_accuracy: 0.7494 - 22s/epoch - 50ms/step\n",
            "Epoch 44/150\n",
            "438/438 - 21s - loss: 0.0893 - accuracy: 0.9767 - val_loss: 1.3138 - val_accuracy: 0.7514 - 21s/epoch - 48ms/step\n",
            "Epoch 45/150\n",
            "438/438 - 21s - loss: 0.0851 - accuracy: 0.9772 - val_loss: 1.3840 - val_accuracy: 0.7524 - 21s/epoch - 49ms/step\n",
            "Epoch 46/150\n",
            "438/438 - 22s - loss: 0.0721 - accuracy: 0.9815 - val_loss: 1.2311 - val_accuracy: 0.7669 - 22s/epoch - 50ms/step\n",
            "Epoch 47/150\n",
            "438/438 - 22s - loss: 0.0718 - accuracy: 0.9819 - val_loss: 1.2992 - val_accuracy: 0.7414 - 22s/epoch - 50ms/step\n",
            "Epoch 48/150\n",
            "438/438 - 21s - loss: 0.1033 - accuracy: 0.9729 - val_loss: 1.1930 - val_accuracy: 0.7586 - 21s/epoch - 48ms/step\n",
            "Epoch 49/150\n",
            "438/438 - 22s - loss: 0.0737 - accuracy: 0.9809 - val_loss: 1.1610 - val_accuracy: 0.7549 - 22s/epoch - 50ms/step\n",
            "Epoch 50/150\n",
            "438/438 - 22s - loss: 0.0692 - accuracy: 0.9825 - val_loss: 1.1820 - val_accuracy: 0.7756 - 22s/epoch - 50ms/step\n",
            "Epoch 51/150\n",
            "438/438 - 21s - loss: 0.0545 - accuracy: 0.9857 - val_loss: 1.2064 - val_accuracy: 0.7814 - 21s/epoch - 49ms/step\n",
            "Epoch 52/150\n",
            "438/438 - 22s - loss: 0.0548 - accuracy: 0.9847 - val_loss: 1.2750 - val_accuracy: 0.7557 - 22s/epoch - 50ms/step\n",
            "Epoch 53/150\n",
            "438/438 - 22s - loss: 0.0640 - accuracy: 0.9823 - val_loss: 1.2480 - val_accuracy: 0.7561 - 22s/epoch - 50ms/step\n",
            "Epoch 54/150\n",
            "438/438 - 21s - loss: 0.0638 - accuracy: 0.9831 - val_loss: 1.3310 - val_accuracy: 0.7507 - 21s/epoch - 48ms/step\n",
            "Epoch 55/150\n",
            "438/438 - 21s - loss: 0.0772 - accuracy: 0.9809 - val_loss: 1.2018 - val_accuracy: 0.7579 - 21s/epoch - 48ms/step\n",
            "Epoch 56/150\n",
            "438/438 - 22s - loss: 0.0762 - accuracy: 0.9805 - val_loss: 1.2520 - val_accuracy: 0.7571 - 22s/epoch - 50ms/step\n",
            "Epoch 57/150\n",
            "438/438 - 22s - loss: 0.0591 - accuracy: 0.9839 - val_loss: 1.3872 - val_accuracy: 0.7576 - 22s/epoch - 50ms/step\n",
            "Epoch 58/150\n",
            "438/438 - 21s - loss: 0.0609 - accuracy: 0.9838 - val_loss: 1.3162 - val_accuracy: 0.7604 - 21s/epoch - 48ms/step\n",
            "Epoch 59/150\n",
            "438/438 - 22s - loss: 0.0461 - accuracy: 0.9888 - val_loss: 1.3572 - val_accuracy: 0.7656 - 22s/epoch - 50ms/step\n",
            "Epoch 60/150\n",
            "438/438 - 22s - loss: 0.0668 - accuracy: 0.9825 - val_loss: 1.2536 - val_accuracy: 0.7657 - 22s/epoch - 50ms/step\n",
            "Epoch 61/150\n",
            "438/438 - 21s - loss: 0.0483 - accuracy: 0.9874 - val_loss: 1.2831 - val_accuracy: 0.7729 - 21s/epoch - 49ms/step\n",
            "Epoch 62/150\n",
            "438/438 - 21s - loss: 0.0594 - accuracy: 0.9840 - val_loss: 1.3520 - val_accuracy: 0.7557 - 21s/epoch - 48ms/step\n",
            "Epoch 63/150\n",
            "438/438 - 21s - loss: 0.0508 - accuracy: 0.9871 - val_loss: 1.3047 - val_accuracy: 0.7639 - 21s/epoch - 48ms/step\n",
            "Epoch 64/150\n",
            "438/438 - 22s - loss: 0.0428 - accuracy: 0.9889 - val_loss: 1.3687 - val_accuracy: 0.7734 - 22s/epoch - 50ms/step\n",
            "Epoch 65/150\n",
            "438/438 - 21s - loss: 0.0572 - accuracy: 0.9846 - val_loss: 1.4608 - val_accuracy: 0.7544 - 21s/epoch - 49ms/step\n",
            "Epoch 66/150\n",
            "438/438 - 22s - loss: 0.0591 - accuracy: 0.9843 - val_loss: 1.3780 - val_accuracy: 0.7564 - 22s/epoch - 50ms/step\n",
            "Epoch 67/150\n",
            "438/438 - 21s - loss: 0.0489 - accuracy: 0.9884 - val_loss: 1.3996 - val_accuracy: 0.7549 - 21s/epoch - 48ms/step\n",
            "Epoch 68/150\n",
            "438/438 - 22s - loss: 0.0495 - accuracy: 0.9868 - val_loss: 1.5156 - val_accuracy: 0.7484 - 22s/epoch - 50ms/step\n",
            "Epoch 69/150\n",
            "438/438 - 21s - loss: 0.0595 - accuracy: 0.9843 - val_loss: 1.3545 - val_accuracy: 0.7624 - 21s/epoch - 48ms/step\n",
            "Epoch 70/150\n",
            "438/438 - 21s - loss: 0.0526 - accuracy: 0.9875 - val_loss: 1.3374 - val_accuracy: 0.7621 - 21s/epoch - 48ms/step\n",
            "Epoch 71/150\n",
            "438/438 - 21s - loss: 0.0417 - accuracy: 0.9900 - val_loss: 1.2578 - val_accuracy: 0.7684 - 21s/epoch - 48ms/step\n",
            "Epoch 72/150\n",
            "438/438 - 21s - loss: 0.0392 - accuracy: 0.9896 - val_loss: 1.5104 - val_accuracy: 0.7520 - 21s/epoch - 48ms/step\n",
            "Epoch 73/150\n",
            "438/438 - 21s - loss: 0.0430 - accuracy: 0.9894 - val_loss: 1.3952 - val_accuracy: 0.7609 - 21s/epoch - 48ms/step\n",
            "Epoch 74/150\n",
            "438/438 - 21s - loss: 0.0449 - accuracy: 0.9889 - val_loss: 1.4134 - val_accuracy: 0.7624 - 21s/epoch - 48ms/step\n",
            "Epoch 75/150\n",
            "438/438 - 21s - loss: 0.0461 - accuracy: 0.9888 - val_loss: 1.4408 - val_accuracy: 0.7574 - 21s/epoch - 48ms/step\n",
            "Epoch 76/150\n",
            "438/438 - 21s - loss: 0.0467 - accuracy: 0.9883 - val_loss: 1.4279 - val_accuracy: 0.7543 - 21s/epoch - 48ms/step\n",
            "Epoch 77/150\n",
            "438/438 - 21s - loss: 0.0496 - accuracy: 0.9865 - val_loss: 1.3157 - val_accuracy: 0.7861 - 21s/epoch - 48ms/step\n",
            "Epoch 78/150\n",
            "438/438 - 21s - loss: 0.0385 - accuracy: 0.9903 - val_loss: 1.3571 - val_accuracy: 0.7741 - 21s/epoch - 48ms/step\n",
            "Epoch 79/150\n",
            "438/438 - 21s - loss: 0.0291 - accuracy: 0.9921 - val_loss: 1.5942 - val_accuracy: 0.7553 - 21s/epoch - 49ms/step\n",
            "Epoch 80/150\n",
            "438/438 - 22s - loss: 0.0365 - accuracy: 0.9906 - val_loss: 1.4102 - val_accuracy: 0.7766 - 22s/epoch - 50ms/step\n",
            "Epoch 81/150\n",
            "438/438 - 21s - loss: 0.0582 - accuracy: 0.9854 - val_loss: 1.2842 - val_accuracy: 0.7684 - 21s/epoch - 49ms/step\n",
            "Epoch 82/150\n",
            "438/438 - 21s - loss: 0.0353 - accuracy: 0.9916 - val_loss: 1.4892 - val_accuracy: 0.7620 - 21s/epoch - 48ms/step\n",
            "Epoch 83/150\n",
            "438/438 - 22s - loss: 0.0418 - accuracy: 0.9898 - val_loss: 1.3434 - val_accuracy: 0.7700 - 22s/epoch - 50ms/step\n",
            "Epoch 84/150\n",
            "438/438 - 21s - loss: 0.0407 - accuracy: 0.9902 - val_loss: 1.3100 - val_accuracy: 0.7819 - 21s/epoch - 49ms/step\n",
            "Epoch 85/150\n",
            "438/438 - 21s - loss: 0.0368 - accuracy: 0.9907 - val_loss: 1.3184 - val_accuracy: 0.7661 - 21s/epoch - 49ms/step\n",
            "Epoch 86/150\n",
            "438/438 - 22s - loss: 0.0350 - accuracy: 0.9908 - val_loss: 1.4168 - val_accuracy: 0.7780 - 22s/epoch - 50ms/step\n",
            "Epoch 87/150\n",
            "438/438 - 22s - loss: 0.0489 - accuracy: 0.9864 - val_loss: 1.3103 - val_accuracy: 0.7776 - 22s/epoch - 50ms/step\n",
            "Epoch 88/150\n",
            "438/438 - 22s - loss: 0.0240 - accuracy: 0.9931 - val_loss: 1.3921 - val_accuracy: 0.7759 - 22s/epoch - 50ms/step\n",
            "Epoch 89/150\n",
            "438/438 - 21s - loss: 0.0359 - accuracy: 0.9914 - val_loss: 1.4348 - val_accuracy: 0.7743 - 21s/epoch - 48ms/step\n",
            "Epoch 90/150\n",
            "438/438 - 21s - loss: 0.0306 - accuracy: 0.9919 - val_loss: 1.7303 - val_accuracy: 0.7481 - 21s/epoch - 48ms/step\n",
            "Epoch 91/150\n",
            "438/438 - 21s - loss: 0.0511 - accuracy: 0.9868 - val_loss: 1.4414 - val_accuracy: 0.7553 - 21s/epoch - 49ms/step\n",
            "Epoch 92/150\n",
            "438/438 - 22s - loss: 0.0406 - accuracy: 0.9902 - val_loss: 1.3237 - val_accuracy: 0.7637 - 22s/epoch - 50ms/step\n",
            "Epoch 93/150\n",
            "438/438 - 22s - loss: 0.0316 - accuracy: 0.9914 - val_loss: 1.3928 - val_accuracy: 0.7820 - 22s/epoch - 50ms/step\n",
            "Epoch 94/150\n",
            "438/438 - 22s - loss: 0.0278 - accuracy: 0.9926 - val_loss: 1.5105 - val_accuracy: 0.7727 - 22s/epoch - 50ms/step\n",
            "Epoch 95/150\n",
            "438/438 - 22s - loss: 0.0341 - accuracy: 0.9909 - val_loss: 1.5313 - val_accuracy: 0.7543 - 22s/epoch - 50ms/step\n",
            "Epoch 96/150\n",
            "438/438 - 22s - loss: 0.0411 - accuracy: 0.9888 - val_loss: 1.3652 - val_accuracy: 0.7741 - 22s/epoch - 50ms/step\n",
            "Epoch 97/150\n",
            "438/438 - 21s - loss: 0.0351 - accuracy: 0.9912 - val_loss: 1.4329 - val_accuracy: 0.7774 - 21s/epoch - 48ms/step\n",
            "Epoch 98/150\n",
            "438/438 - 21s - loss: 0.0384 - accuracy: 0.9907 - val_loss: 1.3896 - val_accuracy: 0.7616 - 21s/epoch - 48ms/step\n",
            "Epoch 99/150\n",
            "438/438 - 22s - loss: 0.0331 - accuracy: 0.9919 - val_loss: 1.4135 - val_accuracy: 0.7714 - 22s/epoch - 50ms/step\n",
            "Epoch 100/150\n",
            "438/438 - 21s - loss: 0.0318 - accuracy: 0.9923 - val_loss: 1.5737 - val_accuracy: 0.7586 - 21s/epoch - 48ms/step\n",
            "Epoch 101/150\n",
            "438/438 - 21s - loss: 0.0359 - accuracy: 0.9901 - val_loss: 1.4874 - val_accuracy: 0.7640 - 21s/epoch - 49ms/step\n",
            "Epoch 102/150\n",
            "438/438 - 21s - loss: 0.0225 - accuracy: 0.9944 - val_loss: 1.5841 - val_accuracy: 0.7544 - 21s/epoch - 48ms/step\n",
            "Epoch 103/150\n",
            "438/438 - 21s - loss: 0.0372 - accuracy: 0.9900 - val_loss: 1.6208 - val_accuracy: 0.7569 - 21s/epoch - 48ms/step\n",
            "Epoch 104/150\n",
            "438/438 - 21s - loss: 0.0375 - accuracy: 0.9899 - val_loss: 1.3615 - val_accuracy: 0.7781 - 21s/epoch - 48ms/step\n",
            "Epoch 105/150\n",
            "438/438 - 21s - loss: 0.0256 - accuracy: 0.9937 - val_loss: 1.4271 - val_accuracy: 0.7844 - 21s/epoch - 48ms/step\n",
            "Epoch 106/150\n",
            "438/438 - 21s - loss: 0.0344 - accuracy: 0.9915 - val_loss: 1.4203 - val_accuracy: 0.7696 - 21s/epoch - 48ms/step\n",
            "Epoch 107/150\n",
            "438/438 - 22s - loss: 0.0194 - accuracy: 0.9956 - val_loss: 1.6039 - val_accuracy: 0.7693 - 22s/epoch - 50ms/step\n",
            "Epoch 108/150\n",
            "438/438 - 21s - loss: 0.0439 - accuracy: 0.9890 - val_loss: 1.2788 - val_accuracy: 0.7793 - 21s/epoch - 48ms/step\n",
            "Epoch 109/150\n",
            "438/438 - 21s - loss: 0.0267 - accuracy: 0.9934 - val_loss: 1.4447 - val_accuracy: 0.7686 - 21s/epoch - 48ms/step\n",
            "Epoch 110/150\n",
            "438/438 - 21s - loss: 0.0273 - accuracy: 0.9928 - val_loss: 1.3687 - val_accuracy: 0.7784 - 21s/epoch - 48ms/step\n",
            "Epoch 111/150\n",
            "438/438 - 22s - loss: 0.0291 - accuracy: 0.9921 - val_loss: 1.4002 - val_accuracy: 0.7709 - 22s/epoch - 50ms/step\n",
            "Epoch 112/150\n",
            "438/438 - 21s - loss: 0.0246 - accuracy: 0.9933 - val_loss: 1.5563 - val_accuracy: 0.7667 - 21s/epoch - 48ms/step\n",
            "Epoch 113/150\n",
            "438/438 - 21s - loss: 0.0273 - accuracy: 0.9930 - val_loss: 1.4090 - val_accuracy: 0.7720 - 21s/epoch - 48ms/step\n",
            "Epoch 114/150\n",
            "438/438 - 22s - loss: 0.0349 - accuracy: 0.9905 - val_loss: 1.4672 - val_accuracy: 0.7813 - 22s/epoch - 50ms/step\n",
            "Epoch 115/150\n",
            "438/438 - 22s - loss: 0.0235 - accuracy: 0.9936 - val_loss: 1.4476 - val_accuracy: 0.7774 - 22s/epoch - 50ms/step\n",
            "Epoch 116/150\n",
            "438/438 - 21s - loss: 0.0286 - accuracy: 0.9927 - val_loss: 1.4595 - val_accuracy: 0.7643 - 21s/epoch - 48ms/step\n",
            "Epoch 117/150\n",
            "438/438 - 22s - loss: 0.0368 - accuracy: 0.9910 - val_loss: 1.5022 - val_accuracy: 0.7641 - 22s/epoch - 50ms/step\n",
            "Epoch 118/150\n",
            "438/438 - 21s - loss: 0.0288 - accuracy: 0.9932 - val_loss: 1.3628 - val_accuracy: 0.7866 - 21s/epoch - 48ms/step\n",
            "Epoch 119/150\n",
            "438/438 - 22s - loss: 0.0303 - accuracy: 0.9923 - val_loss: 1.6009 - val_accuracy: 0.7651 - 22s/epoch - 50ms/step\n",
            "Epoch 120/150\n",
            "438/438 - 21s - loss: 0.0332 - accuracy: 0.9916 - val_loss: 1.3584 - val_accuracy: 0.7830 - 21s/epoch - 48ms/step\n",
            "Epoch 121/150\n",
            "438/438 - 22s - loss: 0.0215 - accuracy: 0.9946 - val_loss: 1.4177 - val_accuracy: 0.7847 - 22s/epoch - 50ms/step\n",
            "Epoch 122/150\n",
            "438/438 - 21s - loss: 0.0290 - accuracy: 0.9917 - val_loss: 1.3497 - val_accuracy: 0.7839 - 21s/epoch - 48ms/step\n",
            "Epoch 123/150\n",
            "438/438 - 21s - loss: 0.0243 - accuracy: 0.9937 - val_loss: 1.4723 - val_accuracy: 0.7609 - 21s/epoch - 48ms/step\n",
            "Epoch 124/150\n",
            "438/438 - 22s - loss: 0.0259 - accuracy: 0.9933 - val_loss: 1.5008 - val_accuracy: 0.7790 - 22s/epoch - 50ms/step\n",
            "Epoch 125/150\n",
            "438/438 - 21s - loss: 0.0311 - accuracy: 0.9923 - val_loss: 1.5255 - val_accuracy: 0.7591 - 21s/epoch - 48ms/step\n",
            "Epoch 126/150\n",
            "438/438 - 22s - loss: 0.0334 - accuracy: 0.9917 - val_loss: 1.4617 - val_accuracy: 0.7721 - 22s/epoch - 50ms/step\n",
            "Epoch 127/150\n",
            "438/438 - 21s - loss: 0.0210 - accuracy: 0.9945 - val_loss: 1.5318 - val_accuracy: 0.7751 - 21s/epoch - 48ms/step\n",
            "Epoch 128/150\n",
            "438/438 - 21s - loss: 0.0169 - accuracy: 0.9962 - val_loss: 1.6350 - val_accuracy: 0.7669 - 21s/epoch - 48ms/step\n",
            "Epoch 129/150\n",
            "438/438 - 21s - loss: 0.0222 - accuracy: 0.9947 - val_loss: 1.5107 - val_accuracy: 0.7791 - 21s/epoch - 48ms/step\n",
            "Epoch 130/150\n",
            "438/438 - 21s - loss: 0.0332 - accuracy: 0.9914 - val_loss: 1.3691 - val_accuracy: 0.7603 - 21s/epoch - 48ms/step\n",
            "Epoch 131/150\n",
            "438/438 - 21s - loss: 0.0263 - accuracy: 0.9942 - val_loss: 1.6042 - val_accuracy: 0.7686 - 21s/epoch - 48ms/step\n",
            "Epoch 132/150\n",
            "438/438 - 22s - loss: 0.0269 - accuracy: 0.9937 - val_loss: 1.4321 - val_accuracy: 0.7620 - 22s/epoch - 50ms/step\n",
            "Epoch 133/150\n",
            "438/438 - 21s - loss: 0.0290 - accuracy: 0.9931 - val_loss: 1.4746 - val_accuracy: 0.7614 - 21s/epoch - 48ms/step\n",
            "Epoch 134/150\n",
            "438/438 - 22s - loss: 0.0194 - accuracy: 0.9955 - val_loss: 1.4785 - val_accuracy: 0.7824 - 22s/epoch - 50ms/step\n",
            "Epoch 135/150\n",
            "438/438 - 22s - loss: 0.0179 - accuracy: 0.9952 - val_loss: 1.6240 - val_accuracy: 0.7631 - 22s/epoch - 50ms/step\n",
            "Epoch 136/150\n",
            "438/438 - 21s - loss: 0.0315 - accuracy: 0.9922 - val_loss: 1.4308 - val_accuracy: 0.7853 - 21s/epoch - 48ms/step\n",
            "Epoch 137/150\n",
            "438/438 - 22s - loss: 0.0254 - accuracy: 0.9933 - val_loss: 1.3748 - val_accuracy: 0.7817 - 22s/epoch - 50ms/step\n",
            "Epoch 138/150\n",
            "438/438 - 21s - loss: 0.0272 - accuracy: 0.9941 - val_loss: 1.4843 - val_accuracy: 0.7779 - 21s/epoch - 48ms/step\n",
            "Epoch 139/150\n",
            "438/438 - 21s - loss: 0.0225 - accuracy: 0.9942 - val_loss: 1.4819 - val_accuracy: 0.7759 - 21s/epoch - 48ms/step\n",
            "Epoch 140/150\n",
            "438/438 - 21s - loss: 0.0212 - accuracy: 0.9945 - val_loss: 1.5191 - val_accuracy: 0.7751 - 21s/epoch - 48ms/step\n",
            "Epoch 141/150\n",
            "438/438 - 22s - loss: 0.0267 - accuracy: 0.9931 - val_loss: 1.4320 - val_accuracy: 0.7754 - 22s/epoch - 50ms/step\n",
            "Epoch 142/150\n",
            "438/438 - 22s - loss: 0.0251 - accuracy: 0.9940 - val_loss: 1.3467 - val_accuracy: 0.7723 - 22s/epoch - 50ms/step\n",
            "Epoch 143/150\n",
            "438/438 - 22s - loss: 0.0155 - accuracy: 0.9960 - val_loss: 1.5470 - val_accuracy: 0.7830 - 22s/epoch - 50ms/step\n",
            "Epoch 144/150\n",
            "438/438 - 22s - loss: 0.0182 - accuracy: 0.9958 - val_loss: 1.6048 - val_accuracy: 0.7673 - 22s/epoch - 50ms/step\n",
            "Epoch 145/150\n",
            "438/438 - 21s - loss: 0.0247 - accuracy: 0.9938 - val_loss: 1.4182 - val_accuracy: 0.7756 - 21s/epoch - 48ms/step\n",
            "Epoch 146/150\n",
            "438/438 - 22s - loss: 0.0279 - accuracy: 0.9939 - val_loss: 1.5789 - val_accuracy: 0.7507 - 22s/epoch - 50ms/step\n",
            "Epoch 147/150\n",
            "438/438 - 21s - loss: 0.0222 - accuracy: 0.9948 - val_loss: 1.4532 - val_accuracy: 0.7743 - 21s/epoch - 48ms/step\n",
            "Epoch 148/150\n",
            "438/438 - 22s - loss: 0.0150 - accuracy: 0.9963 - val_loss: 1.7335 - val_accuracy: 0.7609 - 22s/epoch - 50ms/step\n",
            "Epoch 149/150\n",
            "438/438 - 21s - loss: 0.0223 - accuracy: 0.9945 - val_loss: 1.3781 - val_accuracy: 0.7841 - 21s/epoch - 48ms/step\n",
            "Epoch 150/150\n",
            "438/438 - 21s - loss: 0.0215 - accuracy: 0.9946 - val_loss: 1.5875 - val_accuracy: 0.7729 - 21s/epoch - 48ms/step\n"
          ]
        }
      ]
    },
    {
      "cell_type": "code",
      "source": [
        "#Score on the test set\n",
        "score = full_model.evaluate(X_test, y_test, batch_size=128, verbose=0)"
      ],
      "metadata": {
        "id": "LDkK2h01p8Wa"
      },
      "execution_count": 364,
      "outputs": []
    },
    {
      "cell_type": "code",
      "source": [
        "final_score = full_model.evaluate(X_test_full, y_test_full, batch_size=128, verbose=0)"
      ],
      "metadata": {
        "id": "ECNAtTHR2Jup"
      },
      "execution_count": 365,
      "outputs": []
    },
    {
      "cell_type": "code",
      "source": [
        "print(full_model.metrics_names)\n",
        "print(score)"
      ],
      "metadata": {
        "colab": {
          "base_uri": "https://localhost:8080/"
        },
        "id": "7QQj9UcTcD3B",
        "outputId": "c315f62a-a713-4ab6-f0db-8226f426a962"
      },
      "execution_count": 366,
      "outputs": [
        {
          "output_type": "stream",
          "name": "stdout",
          "text": [
            "['loss', 'accuracy']\n",
            "[1.539452075958252, 0.7815333604812622]\n"
          ]
        }
      ]
    },
    {
      "cell_type": "code",
      "source": [
        "print(full_model.metrics_names)\n",
        "print(final_score)"
      ],
      "metadata": {
        "colab": {
          "base_uri": "https://localhost:8080/"
        },
        "id": "HgeWy-t5p-LI",
        "outputId": "2cf5433d-e6b9-45b8-dfa9-d8bdb1044a10"
      },
      "execution_count": 367,
      "outputs": [
        {
          "output_type": "stream",
          "name": "stdout",
          "text": [
            "['loss', 'accuracy']\n",
            "[1.5704460144042969, 0.7785999774932861]\n"
          ]
        }
      ]
    },
    {
      "cell_type": "code",
      "source": [
        "#Plotting training and validation loss\n",
        "plot_history(resnet_history, yrange=(0.9,1))"
      ],
      "metadata": {
        "colab": {
          "base_uri": "https://localhost:8080/",
          "height": 281
        },
        "id": "lIuauHvzSd-m",
        "outputId": "7e52cfdc-1728-4e4e-e13d-fad2f89e64ef"
      },
      "execution_count": 368,
      "outputs": [
        {
          "output_type": "display_data",
          "data": {
            "image/png": "[encoded data removed]",
            "text/plain": [
              "<Figure size 432x288 with 1 Axes>"
            ]
          },
          "metadata": {
            "needs_background": "light"
          }
        }
      ]
    }
  ],
  "metadata": {
    "accelerator": "GPU",
    "colab": {
      "name": "CS6140-final-proj.ipynb",
      "provenance": [],
      "collapsed_sections": []
    },
    "kernelspec": {
      "display_name": "Python 3",
      "name": "python3"
    },
    "language_info": {
      "name": "python"
    }
  },
  "nbformat": 4,
  "nbformat_minor": 0
}